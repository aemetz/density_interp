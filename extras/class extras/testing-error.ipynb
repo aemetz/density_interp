{
 "cells": [
  {
   "cell_type": "code",
   "execution_count": 32,
   "metadata": {},
   "outputs": [],
   "source": [
    "import numpy as np\n",
    "import tensorflow as tf\n",
    "tf.get_logger().setLevel('ERROR')\n",
    "from tensorflow.keras import layers, losses, models, optimizers\n",
    "from sklearn.decomposition import PCA\n",
    "from sklearn.metrics import mean_squared_error as mse\n",
    "from sklearn.metrics import mean_absolute_error as mae\n",
    "import matplotlib.pyplot as plt\n",
    "from matplotlib import rcParams as rc\n",
    "rc['font.size']=12\n",
    "import os\n",
    "from posydon.grids.psygrid import PSyGrid\n",
    "from posydon.interpolation.IF_interpolation import BaseIFInterpolator\n",
    "import warnings\n",
    "import plotly\n",
    "import plotly.express as px\n",
    "import plotly.graph_objs as go\n",
    "warnings.filterwarnings(\"ignore\", category=DeprecationWarning)"
   ]
  },
  {
   "cell_type": "code",
   "execution_count": 2,
   "metadata": {},
   "outputs": [],
   "source": [
    "os.chdir(\"/projects/b1119/eteng/psygrid_dataset\")\n",
    "data = np.load(\"normalized_logrho_profiles.npy\",allow_pickle=True)\n",
    "valid = np.load(\"normalized_logrho_validation_profiles.npy\", allow_pickle=True)"
   ]
  },
  {
   "cell_type": "code",
   "execution_count": 3,
   "metadata": {},
   "outputs": [],
   "source": [
    "class RhoProf:\n",
    "    def __init__(self, dataset):\n",
    "        self.data = dataset\n",
    "        # will have to make this take in a custom path later\n",
    "        self.model = BaseIFInterpolator(filename = \"/home/tem7290/b1119/prs5019/POSYDON/data/POSYDON_data/CO-HeMS/interpolators/linear3c_kNN/grid_0.0142.pkl\")\n",
    "\n",
    "        self.init_unstable = False\n",
    "        self.init_stable = False\n",
    "        self.init_initial = False\n",
    "        self.init_no = False\n",
    "\n",
    "        self.mass_points = data[0].get('m_arr')\n",
    "        \n",
    "    # methods        \n",
    "    def _vars(self, mt_profs, mt_string, prof_true, final_mass, rho_min, rho_max, rho_minmax, linx, x):\n",
    "        if mt_profs == []:\n",
    "            for prof in self.data:\n",
    "                temp_in = np.transpose([prof.get('m1'), prof.get('m2'), prof.get('p')])\n",
    "                mt_type = self.model.test_classifier(\"interpolation_class\", np.array([temp_in]))\n",
    "                if mt_type == mt_string:\n",
    "                    mt_profs.append(prof)\n",
    "                    prof_true.append(prof.get('logrho_arr'))\n",
    "                    final_mass.append(np.log10(prof.get('final_mass')))\n",
    "                    rho_min.append(prof.get('min_logrho'))\n",
    "                    rho_max.append(prof.get('max_logrho'))\n",
    "                    rho_minmax.append([prof.get('min_logrho'), prof.get('max_logrho')])\n",
    "                    linx.append(temp_in)\n",
    "                    x.append(np.log10(temp_in))\n",
    "\n",
    "\n",
    "    def _pca(self, prof_true):\n",
    "        pca = PCA(n_components=6).fit(prof_true)\n",
    "        prof_low_unscaled = pca.transform(prof_true)\n",
    "        sc = np.std(prof_low_unscaled,axis=0)\n",
    "        prof_low = prof_low_unscaled/sc\n",
    "        return pca, sc, prof_low\n",
    "                                      \n",
    "    def _model(self, x, prof_low):\n",
    "        print('entering model')\n",
    "        model = models.Sequential([\n",
    "            layers.Dense(15,input_dim=3,activation=None),\n",
    "            layers.Dense(15,input_dim=15,activation=\"relu\"),\n",
    "            layers.Dense(15,input_dim=15,activation=\"relu\"),\n",
    "            layers.Dense(15,input_dim=15,activation=\"tanh\"),\n",
    "            layers.Dense(10,input_dim=10,activation=\"tanh\"),\n",
    "            layers.Dense(10,input_dim=10,activation=\"tanh\"),\n",
    "            layers.Dense(6,activation=None)\n",
    "        ])\n",
    "                                      \n",
    "        loss_mse = losses.MeanSquaredError()\n",
    "                                      \n",
    "        model.compile(optimizers.Adam(clipnorm=1),loss=loss_mse)\n",
    "        callback = tf.keras.callbacks.EarlyStopping(monitor='loss', patience=40)\n",
    "        history = model.fit(x,prof_low,epochs=3000,callbacks=[callback],verbose=0)\n",
    "        plt.plot(history.history['loss'])\n",
    "        plt.show()\n",
    "        return model\n",
    "                                      \n",
    "    def _model_mass(self, x, final_mass):\n",
    "        print('entering model mass')\n",
    "        model_mass = models.Sequential([\n",
    "            layers.Dense(10,input_dim=3,activation=None),\n",
    "            layers.Dense(10,input_dim=10,activation='relu'),\n",
    "            layers.Dense(10,input_dim=10,activation='tanh'),\n",
    "            layers.Dense(10,input_dim=10,activation='tanh'),\n",
    "            layers.Dense(10,input_dim=10,activation='tanh'),\n",
    "            layers.Dense(10,input_dim=10,activation='tanh'),\n",
    "            layers.Dense(1,activation=None)\n",
    "        ])\n",
    "                                      \n",
    "        loss_mse = losses.MeanSquaredError()\n",
    "        \n",
    "        model_mass.compile(optimizers.Adam(clipnorm=1),loss=\"mse\")\n",
    "        callback = tf.keras.callbacks.EarlyStopping(monitor='loss', patience=40)\n",
    "        history = model_mass.fit(x,final_mass,epochs=2000,callbacks=[callback],verbose=0)\n",
    "        plt.plot(history.history['loss'])\n",
    "        plt.show()\n",
    "        return model_mass\n",
    "                                      \n",
    "    def _model_rho(self, x, rho_minmax):\n",
    "        print('entering model rho')\n",
    "        model_rho = models.Sequential([\n",
    "            layers.Dense(10,input_dim=3,activation='relu'),\n",
    "            layers.Dense(10,input_dim=10,activation='relu'),\n",
    "            layers.Dense(10,input_dim=10,activation='tanh'),\n",
    "            layers.Dense(10,input_dim=10,activation='tanh'),\n",
    "            layers.Dense(10,input_dim=10,activation='tanh'),\n",
    "            layers.Dense(10,input_dim=10,activation='tanh'),\n",
    "            layers.Dense(2,activation=None)\n",
    "        ])\n",
    "\n",
    "        loss_mse = losses.MeanSquaredError()\n",
    "        \n",
    "        model_rho.compile(optimizers.Adam(clipnorm=1),loss=\"mse\")\n",
    "        callback = tf.keras.callbacks.EarlyStopping(monitor='loss', patience=40)\n",
    "        history = model_rho.fit(x,rho_minmax,epochs=2000,callbacks=[callback],verbose=0)\n",
    "        plt.plot(history.history['loss'])\n",
    "        plt.show()\n",
    "        return model_rho\n",
    "\n",
    "    def _pred_profiles(self, pca, model, model_mass, model_rho, lin_x, sc):\n",
    "        x = np.log10(lin_x)\n",
    "        regress_mass = lambda x: model_mass(x)\n",
    "        final_log_masses = regress_mass(x)\n",
    "        final_linear_masses = 10**final_log_masses\n",
    "\n",
    "        regress_rho = lambda x: model_rho(x)\n",
    "        min_rho = np.array(regress_rho(x)[:,0])\n",
    "        max_rho = np.array(regress_rho(x)[:,1])\n",
    "        min_rho.shape, max_rho.shape = (len(min_rho), 1), (len(max_rho), 1)\n",
    "\n",
    "        regress = lambda x: model(x)\n",
    "        scaled_pca_weights = regress(x)\n",
    "        norm_profiles = pca.inverse_transform(scaled_pca_weights*sc)\n",
    "\n",
    "        minrho_profiles = min_rho*norm_profiles\n",
    "        maxrho_profiles = max_rho*norm_profiles\n",
    "\n",
    "        density_profiles = norm_profiles*(maxrho_profiles-minrho_profiles) + maxrho_profiles\n",
    "        xcoords = self.mass_points*final_linear_masses[:,np.newaxis]\n",
    "\n",
    "        return max_rho, xcoords, density_profiles\n",
    "        \n",
    "    def _pred_unstable_mt(self, inputs):\n",
    "        if self.init_unstable == False:\n",
    "            self.unstable_mt_profs, self.unstable_prof_true, self.unstable_final_mass, self.unstable_rho_min, \\\n",
    "            self.unstable_rho_max, self.unstable_rho_minmax, self.unstable_linx, self.unstable_x = [], [], [], [], [], [], [], []\n",
    "\n",
    "            self._vars(self.unstable_mt_profs, 'unstable_MT', self.unstable_prof_true, self.unstable_final_mass,\n",
    "                       self.unstable_rho_min, self.unstable_rho_max, self.unstable_rho_minmax, self.unstable_linx, self.unstable_x)\n",
    "            \n",
    "            self.unstable_mt_profs = np.array(self.unstable_mt_profs)\n",
    "            self.unstable_prof_true = np.array(self.unstable_prof_true)\n",
    "            self.unstable_final_mass = np.array(self.unstable_final_mass)\n",
    "            self.unstable_rho_min = np.array(self.unstable_rho_min)\n",
    "            self.unstable_rho_max = np.array(self.unstable_rho_max)\n",
    "            self.unstable_rho_minmax = np.array(self.unstable_rho_minmax)\n",
    "            self.unstable_linx = np.array(self.unstable_linx)\n",
    "            self.unstable_x = np.array(self.unstable_x)\n",
    "            \n",
    "            self.unstable_pca, self.unstable_sc, self.unstable_prof_low = self._pca(self.unstable_prof_true)\n",
    "            self.unstable_model = self._model(self.unstable_x, self.unstable_prof_low)\n",
    "            self.unstable_model_mass = self._model_mass(self.unstable_x, self.unstable_final_mass)\n",
    "            self.unstable_model_rho = self._model_rho(self.unstable_x, self.unstable_rho_minmax)\n",
    "            \n",
    "            self.init_unstable = True\n",
    "        \n",
    "        return self._pred_profiles(self.unstable_pca, self.unstable_model, self.unstable_model_mass, self.unstable_model_rho,\\\n",
    "                                  inputs, self.unstable_sc)\n",
    "    \n",
    "    def _pred_stable_mt(self, inputs):\n",
    "        if self.init_stable == False:\n",
    "            self.stable_mt_profs, self.stable_prof_true, self.stable_final_mass, self.stable_rho_min, \\\n",
    "            self.stable_rho_max, self.stable_rho_minmax, self.stable_linx, self.stable_x = [], [], [], [], [], [], [], []\n",
    "\n",
    "            self._vars(self.stable_mt_profs, 'stable_MT', self.stable_prof_true, self.stable_final_mass,\n",
    "                       self.stable_rho_min, self.stable_rho_max, self.stable_rho_minmax, self.stable_linx, self.stable_x)\n",
    "            \n",
    "            self.stable_mt_profs = np.array(self.stable_mt_profs)\n",
    "            self.stable_prof_true = np.array(self.stable_prof_true)\n",
    "            self.stable_final_mass = np.array(self.stable_final_mass)\n",
    "            self.stable_rho_min = np.array(self.stable_rho_min)\n",
    "            self.stable_rho_max = np.array(self.stable_rho_max)\n",
    "            self.stable_rho_minmax = np.array(self.stable_rho_minmax)\n",
    "            self.stable_linx = np.array(self.stable_linx)\n",
    "            self.stable_x = np.array(self.stable_x)\n",
    "            \n",
    "            self.stable_pca, self.stable_sc, self.stable_prof_low = self._pca(self.stable_prof_true)\n",
    "            self.stable_model = self._model(self.stable_x, self.stable_prof_low)\n",
    "            self.stable_model_mass = self._model_mass(self.stable_x, self.stable_final_mass)\n",
    "            self.stable_model_rho = self._model_rho(self.stable_x, self.stable_rho_minmax)\n",
    "            \n",
    "            self.init_stable = True\n",
    "        \n",
    "        return self._pred_profiles(self.stable_pca, self.stable_model, self.stable_model_mass, self.stable_model_rho,\\\n",
    "                                  inputs, self.stable_sc)\n",
    "    \n",
    "    def _pred_initial_mt(self, inputs):\n",
    "        if self.init_initial == False:\n",
    "            self.initial_mt_profs, self.initial_prof_true, self.initial_final_mass, self.initial_rho_min, \\\n",
    "            self.initial_rho_max, self.initial_rho_minmax, self.initial_linx, self.initial_x = [], [], [], [], [], [], [], []\n",
    "\n",
    "            self._vars(self.initial_mt_profs, 'initial_MT', self.initial_prof_true, self.initial_final_mass,\n",
    "                       self.initial_rho_min, self.initial_rho_max, self.initial_rho_minmax, self.initial_linx, self.initial_x)\n",
    "            \n",
    "            self.initial_mt_profs = np.array(self.initial_mt_profs)\n",
    "            self.initial_prof_true = np.array(self.initial_prof_true)\n",
    "            self.initial_final_mass = np.array(self.initial_final_mass)\n",
    "            self.initial_rho_min = np.array(self.initial_rho_min)\n",
    "            self.initial_rho_max = np.array(self.initial_rho_max)\n",
    "            self.initial_rho_minmax = np.array(self.initial_rho_minmax)\n",
    "            self.initial_linx = np.array(self.initial_linx)\n",
    "            self.initial_x = np.array(self.initial_x)\n",
    "            \n",
    "            self.initial_pca, self.initial_sc, self.initial_prof_low = self._pca(self.initial_prof_true)\n",
    "            self.initial_model = self._model(self.initial_x, self.initial_prof_low)\n",
    "            self.initial_model_mass = self._model_mass(self.initial_x, self.initial_final_mass)\n",
    "            self.initial_model_rho = self._model_rho(self.initial_x, self.initial_rho_minmax)\n",
    "            \n",
    "            self.init_initial = True\n",
    "        \n",
    "        return self._pred_profiles(self.initial_pca, self.initial_model, self.initial_model_mass, self.initial_model_rho,\\\n",
    "                                  inputs, self.initial_sc)\n",
    "    \n",
    "    def _pred_no_mt(self, inputs):\n",
    "        if self.init_no == False:\n",
    "            self.no_mt_profs, self.no_prof_true, self.no_final_mass, self.no_rho_min, \\\n",
    "            self.no_rho_max, self.no_rho_minmax, self.no_linx, self.no_x = [], [], [], [], [], [], [], []\n",
    "\n",
    "            self._vars(self.no_mt_profs, 'no_MT', self.no_prof_true, self.no_final_mass,\n",
    "                       self.no_rho_min, self.no_rho_max, self.no_rho_minmax, self.no_linx, self.no_x)\n",
    "            \n",
    "            self.no_mt_profs = np.array(self.no_mt_profs)\n",
    "            self.no_prof_true = np.array(self.no_prof_true)\n",
    "            self.no_final_mass = np.array(self.no_final_mass)\n",
    "            self.no_rho_min = np.array(self.no_rho_min)\n",
    "            self.no_rho_max = np.array(self.no_rho_max)\n",
    "            self.no_rho_minmax = np.array(self.no_rho_minmax)\n",
    "            self.no_linx = np.array(self.no_linx)\n",
    "            self.no_x = np.array(self.no_x)\n",
    "            \n",
    "            self.no_pca, self.no_sc, self.no_prof_low = self._pca(self.no_prof_true)\n",
    "            self.no_model = self._model(self.no_x, self.no_prof_low)\n",
    "            self.no_model_mass = self._model_mass(self.no_x, self.no_final_mass)\n",
    "            self.no_model_rho = self._model_rho(self.no_x, self.no_rho_minmax)\n",
    "            \n",
    "            self.init_no = True\n",
    "        \n",
    "        return self._pred_profiles(self.no_pca, self.no_model, self.no_model_mass, self.no_model_rho,\\\n",
    "                                  inputs, self.no_sc)\n",
    "    \n",
    "    def pred_prof(self, inputs):\n",
    "        # currently this only works for inputs in [[m1,m2,p]] format. double brackets, one 3d input\n",
    "        # can adjust to account for more later by returning a list of lists of xcoords, profiles\n",
    "        # where this function calls the _pred functions through iterating over the inputs and appends the xcoords and profiles\n",
    "        # to what will be the output\n",
    "        if len(inputs) == 1:\n",
    "            mt_type = self.model.test_classifier(\"interpolation_class\", np.array(inputs))\n",
    "            if mt_type == 'unstable_MT':\n",
    "                print('unstable')\n",
    "                return self._pred_unstable_mt(inputs)\n",
    "            elif mt_type == 'stable_MT':\n",
    "                print('stable')\n",
    "                return self._pred_stable_mt(inputs)\n",
    "            elif mt_type == 'initial_MT':\n",
    "                print('initial')\n",
    "                return self._pred_initial_mt(inputs)\n",
    "            elif mt_type == 'no_MT':\n",
    "                print('no')\n",
    "                return self._pred_no_mt(inputs)\n",
    "        elif len(inputs) > 1:\n",
    "            unst = []\n",
    "            st = []\n",
    "            init = []\n",
    "            no = []\n",
    "            for inp in inputs:\n",
    "                mt_type = self.model.test_classifier(\"interpolation_class\", np.array([inp]))\n",
    "                if mt_type == 'unstable_MT':\n",
    "                    unst.append(self._pred_unstable_mt(inp))\n",
    "                elif mt_type == 'stable_MT':\n",
    "                    st.append(self._pred_stable_mt(inp))\n",
    "                elif mt_type == 'initial_MT':\n",
    "                    init.append(self._pred_initial_mt(inputs))\n",
    "                elif mt_type == 'no_MT':\n",
    "                    no.append(self._pred_no_mt(inputs))\n",
    "                    \n",
    "            type_return = self.model.test_classifier(\"interpolation_class\", np.array([inputs[0]]))\n",
    "            if type_return == 'unstable_MT':\n",
    "                return unst\n",
    "            elif type_return == 'stable_MT':\n",
    "                return st\n",
    "            elif type_return == 'initial_MT':\n",
    "                return init\n",
    "            elif type_return == 'no_MT':\n",
    "                return no\n",
    "    \n",
    "    # debugging\n",
    "    def call_vars(self):\n",
    "        self.unstable_mt_profs, self.unstable_prof_true, self.unstable_final_mass, self.unstable_rho_min, \\\n",
    "            self.unstable_rho_max, self.unstable_rho_minmax, self.unstable_linx, self.unstable_x = [], [], [], [], [], [], [], []\n",
    "        \n",
    "        self._vars(self.unstable_mt_profs, 'unstable_MT', self.unstable_prof_true, self.unstable_final_mass,\n",
    "                       self.unstable_rho_min, self.unstable_rho_max, self.unstable_rho_minmax, self.unstable_linx, self.unstable_x)\n",
    "        \n",
    "        self.unstable_mt_profs = np.array(self.unstable_mt_profs)\n",
    "        self.unstable_prof_true = np.array(self.unstable_prof_true)\n",
    "        self.unstable_final_mass = np.array(self.unstable_final_mass)\n",
    "        self.unstable_rho_min = np.array(self.unstable_rho_min)\n",
    "        self.unstable_rho_max = np.array(self.unstable_rho_max)\n",
    "        self.unstable_rho_minmax = np.array(self.unstable_rho_minmax)\n",
    "        self.unstable_linx = np.array(self.unstable_linx)\n",
    "        self.unstable_x = np.array(self.unstable_x)\n",
    "        \n",
    "    def print_vars(self):\n",
    "        return self.unstable_mt_profs, 'unstable_MT', self.unstable_prof_true, self.unstable_final_mass, \\\n",
    "                    self.unstable_rho_min, self.unstable_rho_max, self.unstable_rho_minmax, self.unstable_linx, self.unstable_x\n",
    "        "
   ]
  },
  {
   "cell_type": "code",
   "execution_count": 4,
   "metadata": {},
   "outputs": [
    {
     "name": "stdout",
     "output_type": "stream",
     "text": [
      "unstable\n",
      "entering model\n"
     ]
    },
    {
     "name": "stderr",
     "output_type": "stream",
     "text": [
      "2022-07-28 10:30:16.587550: I tensorflow/compiler/jit/xla_cpu_device.cc:41] Not creating XLA devices, tf_xla_enable_xla_devices not set\n",
      "2022-07-28 10:30:16.588835: I tensorflow/core/platform/cpu_feature_guard.cc:142] This TensorFlow binary is optimized with oneAPI Deep Neural Network Library (oneDNN) to use the following CPU instructions in performance-critical operations:  SSE4.1 SSE4.2 AVX AVX2 AVX512F FMA\n",
      "To enable them in other operations, rebuild TensorFlow with the appropriate compiler flags.\n",
      "2022-07-28 10:30:16.592209: I tensorflow/core/common_runtime/process_util.cc:146] Creating new thread pool with default inter op setting: 2. Tune using inter_op_parallelism_threads for best performance.\n",
      "2022-07-28 10:30:16.858610: I tensorflow/compiler/mlir/mlir_graph_optimization_pass.cc:116] None of the MLIR optimization passes are enabled (registered 2)\n",
      "2022-07-28 10:30:16.859116: I tensorflow/core/platform/profile_utils/cpu_utils.cc:112] CPU Frequency: 2100000000 Hz\n"
     ]
    },
    {
     "data": {
      "image/png": "[encoded data removed]",
      "text/plain": [
       "<Figure size 432x288 with 1 Axes>"
      ]
     },
     "metadata": {
      "needs_background": "light"
     },
     "output_type": "display_data"
    },
    {
     "name": "stdout",
     "output_type": "stream",
     "text": [
      "entering model mass\n"
     ]
    },
    {
     "data": {
      "image/png": "[encoded data removed]",
      "text/plain": [
       "<Figure size 432x288 with 1 Axes>"
      ]
     },
     "metadata": {
      "needs_background": "light"
     },
     "output_type": "display_data"
    },
    {
     "name": "stdout",
     "output_type": "stream",
     "text": [
      "entering model rho\n"
     ]
    },
    {
     "data": {
      "image/png": "[encoded data removed]",
      "text/plain": [
       "<Figure size 432x288 with 1 Axes>"
      ]
     },
     "metadata": {
      "needs_background": "light"
     },
     "output_type": "display_data"
    }
   ],
   "source": [
    "grub = RhoProf(data)\n",
    "maxrho, xcoords, profiles = grub.pred_prof([[13, 1, 0.08]])"
   ]
  },
  {
   "cell_type": "code",
   "execution_count": 5,
   "metadata": {},
   "outputs": [
    {
     "name": "stdout",
     "output_type": "stream",
     "text": [
      "[[2.6562383]]\n"
     ]
    }
   ],
   "source": [
    "print(maxrho)"
   ]
  },
  {
   "cell_type": "code",
   "execution_count": 8,
   "metadata": {},
   "outputs": [
    {
     "name": "stdout",
     "output_type": "stream",
     "text": [
      "[[ 1.28143897e+01  1.27779764e+01  1.27535067e+01  1.27334491e+01\n",
      "   1.27150445e+01  1.26979261e+01  1.26821449e+01  1.26670455e+01\n",
      "   1.26525196e+01  1.26384600e+01  1.26247888e+01  1.26114394e+01\n",
      "   1.25984361e+01  1.25856534e+01  1.25731015e+01  1.25607379e+01\n",
      "   1.25485799e+01  1.25366009e+01  1.25247811e+01  1.25130770e+01\n",
      "   1.25015089e+01  1.24900535e+01  1.24787146e+01  1.24674658e+01\n",
      "   1.24562963e+01  1.24452203e+01  1.24342351e+01  1.24233147e+01\n",
      "   1.24124793e+01  1.24016701e+01  1.23908985e+01  1.23801888e+01\n",
      "   1.23694891e+01  1.23588541e+01  1.23482119e+01  1.23376442e+01\n",
      "   1.23270819e+01  1.23164911e+01  1.23059498e+01  1.22954457e+01\n",
      "   1.22849164e+01  1.22744343e+01  1.22639297e+01  1.22534268e+01\n",
      "   1.22428653e+01  1.22323620e+01  1.22218753e+01  1.22113683e+01\n",
      "   1.22008486e+01  1.21903370e+01  1.21798089e+01  1.21692668e+01\n",
      "   1.21586850e+01  1.21481435e+01  1.21375485e+01  1.21269061e+01\n",
      "   1.21163107e+01  1.21057108e+01  1.20950472e+01  1.20843482e+01\n",
      "   1.20736254e+01  1.20629631e+01  1.20522242e+01  1.20414629e+01\n",
      "   1.20307051e+01  1.20198985e+01  1.20090613e+01  1.19981780e+01\n",
      "   1.19872494e+01  1.19763073e+01  1.19653543e+01  1.19543371e+01\n",
      "   1.19432837e+01  1.19321882e+01  1.19210822e+01  1.19099286e+01\n",
      "   1.18987085e+01  1.18874516e+01  1.18761555e+01  1.18648479e+01\n",
      "   1.18534687e+01  1.18420207e+01  1.18305584e+01  1.18189775e+01\n",
      "   1.18074254e+01  1.17958080e+01  1.17841170e+01  1.17723673e+01\n",
      "   1.17605894e+01  1.17487301e+01  1.17368496e+01  1.17248760e+01\n",
      "   1.17128509e+01  1.17007255e+01  1.16885368e+01  1.16762832e+01\n",
      "   1.16639640e+01  1.16515916e+01  1.16391673e+01  1.16266412e+01\n",
      "   1.16140424e+01  1.16013711e+01  1.15887079e+01  1.15758322e+01\n",
      "   1.15628609e+01  1.15497999e+01  1.15367243e+01  1.15235354e+01\n",
      "   1.15102269e+01  1.14967811e+01  1.14833260e+01  1.14697409e+01\n",
      "   1.14560386e+01  1.14422802e+01  1.14283940e+01  1.14142799e+01\n",
      "   1.14001198e+01  1.13858698e+01  1.13715459e+01  1.13571112e+01\n",
      "   1.13425243e+01  1.13278949e+01  1.13130627e+01  1.12980367e+01\n",
      "   1.12829975e+01  1.12677242e+01  1.12523697e+01  1.12369235e+01\n",
      "   1.12213281e+01  1.12055016e+01  1.11896522e+01  1.11735874e+01\n",
      "   1.11573422e+01  1.11411145e+01  1.11252567e+01  1.11085840e+01\n",
      "   1.10921312e+01  1.10754390e+01  1.10588828e+01  1.10427176e+01\n",
      "   1.10257058e+01  1.10082637e+01  1.09901427e+01  1.09718033e+01\n",
      "   1.09531492e+01  1.09340666e+01  1.09144298e+01  1.08946214e+01\n",
      "   1.08742296e+01  1.08534544e+01  1.08321478e+01  1.08104875e+01\n",
      "   1.07885622e+01  1.07658594e+01  1.07429823e+01  1.07193729e+01\n",
      "   1.06952857e+01  1.06706766e+01  1.06454833e+01  1.06198155e+01\n",
      "   1.05935231e+01  1.05666056e+01  1.05390387e+01  1.05107378e+01\n",
      "   1.04817682e+01  1.04519163e+01  1.04212907e+01  1.03898676e+01\n",
      "   1.03575050e+01  1.03242260e+01  1.02899491e+01  1.02546506e+01\n",
      "   1.02181700e+01  1.01804150e+01  1.01412441e+01  1.01006636e+01\n",
      "   1.00585824e+01  1.00154781e+01  9.97041894e+00  9.92254985e+00\n",
      "   9.87255717e+00  9.81943589e+00  9.76272076e+00  9.70282423e+00\n",
      "   9.64004761e+00  9.57355173e+00  9.50084281e+00  9.41803602e+00\n",
      "   9.32855718e+00  9.23093063e+00  9.11509260e+00  8.98803754e+00\n",
      "   8.85979593e+00  8.72641787e+00  8.57962916e+00  8.40329962e+00\n",
      "   8.17793355e+00  7.87335882e+00  7.33061433e+00 -1.34559970e-05]]\n"
     ]
    },
    {
     "data": {
      "text/plain": [
       "12.814389705657959"
      ]
     },
     "execution_count": 8,
     "metadata": {},
     "output_type": "execute_result"
    }
   ],
   "source": [
    "print(profiles)\n",
    "max(profiles[0])"
   ]
  },
  {
   "cell_type": "code",
   "execution_count": 9,
   "metadata": {},
   "outputs": [],
   "source": [
    "valid_m1 = [prof.get('m1') for prof in valid]\n",
    "valid_m2 = [prof.get('m2') for prof in valid]\n",
    "valid_p = [prof.get('p') for prof in valid]\n",
    "valid_x = [[valid_m1[i],valid_m2[i],valid_p[i]] for i in range(len(valid_m1))]\n",
    "\n",
    "model = BaseIFInterpolator(filename = \"/home/tem7290/b1119/prs5019/POSYDON/data/POSYDON_data/CO-HeMS/interpolators/linear3c_kNN/grid_0.0142.pkl\")\n",
    "valid_linx = []\n",
    "m1list = []\n",
    "plist = []\n",
    "for inp in valid_x:\n",
    "    if model.test_classifier(\"interpolation_class\", np.array([inp])) == 'unstable_MT':\n",
    "        valid_linx.append(inp)\n",
    "        m1list.append(inp[0])\n",
    "        plist.append(inp[2])"
   ]
  },
  {
   "cell_type": "code",
   "execution_count": 24,
   "metadata": {},
   "outputs": [
    {
     "name": "stdout",
     "output_type": "stream",
     "text": [
      "unstable\n",
      "unstable\n",
      "unstable\n",
      "unstable\n",
      "unstable\n",
      "unstable\n",
      "unstable\n",
      "unstable\n",
      "unstable\n",
      "unstable\n",
      "unstable\n",
      "unstable\n",
      "unstable\n",
      "unstable\n",
      "unstable\n",
      "unstable\n",
      "unstable\n",
      "unstable\n",
      "unstable\n",
      "unstable\n",
      "unstable\n",
      "unstable\n",
      "unstable\n",
      "unstable\n",
      "unstable\n",
      "unstable\n",
      "unstable\n",
      "unstable\n",
      "unstable\n",
      "unstable\n",
      "unstable\n",
      "unstable\n",
      "unstable\n",
      "unstable\n",
      "unstable\n",
      "unstable\n",
      "unstable\n",
      "unstable\n",
      "unstable\n",
      "unstable\n",
      "unstable\n",
      "unstable\n",
      "unstable\n",
      "unstable\n",
      "unstable\n",
      "unstable\n",
      "unstable\n",
      "unstable\n",
      "unstable\n",
      "unstable\n",
      "unstable\n",
      "unstable\n",
      "unstable\n",
      "unstable\n",
      "unstable\n",
      "unstable\n",
      "unstable\n",
      "unstable\n"
     ]
    }
   ],
   "source": [
    "maxlist = []\n",
    "for inp in valid_linx:\n",
    "    max_rho, xcoords, profiles = grub.pred_prof([inp])\n",
    "    maxlist.append(max_rho[0][0])"
   ]
  },
  {
   "cell_type": "code",
   "execution_count": 26,
   "metadata": {},
   "outputs": [
    {
     "data": {
      "application/vnd.plotly.v1+json": {
       "config": {
        "plotlyServerURL": "https://plot.ly"
       },
       "data": [
        {
         "hovertemplate": "x=%{x}<br>y=%{y}<br>z=%{z}<extra></extra>",
         "legendgroup": "",
         "marker": {
          "color": "#636efa",
          "symbol": "circle"
         },
         "mode": "markers",
         "name": "",
         "scene": "scene",
         "showlegend": false,
         "type": "scatter3d",
         "x": [
          33.97079205757949,
          0.5289905284274483,
          11.453223187600882,
          46.07415929345461,
          72.55402995510143,
          38.43829790942585,
          19.500655510731907,
          60.610758507194504,
          12.706457569781339,
          0.5044687360663032,
          55.14116388396504,
          1.7893090647162977,
          0.7261272444631621,
          19.067163023459557,
          73.04903591498767,
          18.47941636588293,
          49.70632178865032,
          78.86807249549477,
          46.545468474726974,
          14.74231411003201,
          62.53639015222965,
          20.318191108338283,
          52.85485238143993,
          34.662974743473555,
          13.357707942090876,
          52.365808793963716,
          30.01336729155993,
          33.85296711285308,
          7.0918676887725285,
          36.678819663893385,
          8.808766735507136,
          43.793074348219996,
          59.807839619714144,
          44.23557379779463,
          0.6014500596689033,
          45.87476450615778,
          18.28293308462908,
          19.823313412927327,
          69.34791010215571,
          52.50100521823235,
          7.2552006405833245,
          76.8234962793008,
          31.28788583139209,
          13.168531479567731,
          73.15911311522105,
          41.19649886834874,
          76.63652987654103,
          31.272358720261373,
          53.46213786603246,
          0.74259472590333,
          8.142742134177267,
          78.28590169732438,
          50.93872288290057,
          41.950306404688234,
          30.43707386112029,
          15.341520914831815,
          41.09285479954504,
          37.907235427662066
         ],
         "y": [
          0.2404983106107288,
          0.02397473579049554,
          0.15574906916938042,
          0.1797727564806083,
          0.17234327613556938,
          0.09644599668790384,
          0.1173966343398461,
          0.2100492454916396,
          0.1762487619700311,
          0.06243561644039228,
          0.13301474402246716,
          0.9461975589357671,
          0.03438627460709655,
          0.17051780868154548,
          0.16440071503531464,
          0.21067030474639467,
          0.14676507359226806,
          0.15940660296826836,
          0.2545477115370168,
          0.18964959783743848,
          0.32151044702621684,
          0.15088311350983202,
          0.1421082607348659,
          0.1407775173363472,
          0.09858886984962895,
          0.19713931673972132,
          0.27863730140500004,
          0.09621443100816056,
          0.0889646611981052,
          0.20443862109382124,
          0.09547825417347859,
          0.15927952814309373,
          0.1700552925643563,
          0.14048212725616022,
          0.03816735276346378,
          0.1484530451035701,
          0.10724099944187424,
          0.1133714826900098,
          0.18614458766587053,
          0.2664586628694103,
          0.0901636781391272,
          0.19992863245454578,
          0.10712465579072032,
          0.17702207138697912,
          0.3127605978161533,
          0.13118439965060968,
          0.14199502664757507,
          0.15124487569788655,
          0.16542363323951098,
          0.0391525141482102,
          0.17277735734357788,
          0.2122792238568729,
          0.14837435162288629,
          0.17596156605931254,
          0.10806686204262436,
          0.07694932919791055,
          0.13508535251369252,
          0.20248734585397268
         ],
         "z": [
          2.426654577255249,
          4.257197856903076,
          2.74165415763855,
          2.3588056564331055,
          2.3026082515716553,
          2.421609401702881,
          2.514310836791992,
          2.308347702026367,
          2.680532932281494,
          4.504106521606445,
          2.3287267684936523,
          6.970844745635986,
          4.296154499053955,
          2.5818183422088623,
          2.3051095008850098,
          2.60355544090271,
          2.3398149013519287,
          2.291001319885254,
          2.325854539871216,
          2.6917905807495117,
          2.3293771743774414,
          2.5471742153167725,
          2.3430941104888916,
          2.3986258506774902,
          2.6082115173339844,
          2.3313748836517334,
          2.456965446472168,
          2.4517312049865723,
          2.828413248062134,
          2.4062094688415527,
          2.707084894180298,
          2.367719888687134,
          2.293617010116577,
          2.3762054443359375,
          4.424437046051025,
          2.349679946899414,
          2.5346720218658447,
          2.5759501457214355,
          2.2716481685638428,
          2.3099591732025146,
          2.7419097423553467,
          2.3009581565856934,
          2.436167001724243,
          2.72169828414917,
          2.3156964778900146,
          2.4035964012145996,
          2.3022122383117676,
          2.4371836185455322,
          2.3310396671295166,
          4.387932300567627,
          5.07144832611084,
          2.2997734546661377,
          2.352221965789795,
          2.3926916122436523,
          2.4503743648529053,
          2.6474595069885254,
          2.3666269779205322,
          2.399013042449951
         ]
        }
       ],
       "layout": {
        "legend": {
         "tracegroupgap": 0
        },
        "scene": {
         "domain": {
          "x": [
           0,
           1
          ],
          "y": [
           0,
           1
          ]
         },
         "xaxis": {
          "title": {
           "text": "m1"
          }
         },
         "yaxis": {
          "title": {
           "text": "p"
          }
         },
         "zaxis": {
          "title": {
           "text": "max rho"
          }
         }
        },
        "template": {
         "data": {
          "bar": [
           {
            "error_x": {
             "color": "#2a3f5f"
            },
            "error_y": {
             "color": "#2a3f5f"
            },
            "marker": {
             "line": {
              "color": "#E5ECF6",
              "width": 0.5
             },
             "pattern": {
              "fillmode": "overlay",
              "size": 10,
              "solidity": 0.2
             }
            },
            "type": "bar"
           }
          ],
          "barpolar": [
           {
            "marker": {
             "line": {
              "color": "#E5ECF6",
              "width": 0.5
             },
             "pattern": {
              "fillmode": "overlay",
              "size": 10,
              "solidity": 0.2
             }
            },
            "type": "barpolar"
           }
          ],
          "carpet": [
           {
            "aaxis": {
             "endlinecolor": "#2a3f5f",
             "gridcolor": "white",
             "linecolor": "white",
             "minorgridcolor": "white",
             "startlinecolor": "#2a3f5f"
            },
            "baxis": {
             "endlinecolor": "#2a3f5f",
             "gridcolor": "white",
             "linecolor": "white",
             "minorgridcolor": "white",
             "startlinecolor": "#2a3f5f"
            },
            "type": "carpet"
           }
          ],
          "choropleth": [
           {
            "colorbar": {
             "outlinewidth": 0,
             "ticks": ""
            },
            "type": "choropleth"
           }
          ],
          "contour": [
           {
            "colorbar": {
             "outlinewidth": 0,
             "ticks": ""
            },
            "colorscale": [
             [
              0,
              "#0d0887"
             ],
             [
              0.1111111111111111,
              "#46039f"
             ],
             [
              0.2222222222222222,
              "#7201a8"
             ],
             [
              0.3333333333333333,
              "#9c179e"
             ],
             [
              0.4444444444444444,
              "#bd3786"
             ],
             [
              0.5555555555555556,
              "#d8576b"
             ],
             [
              0.6666666666666666,
              "#ed7953"
             ],
             [
              0.7777777777777778,
              "#fb9f3a"
             ],
             [
              0.8888888888888888,
              "#fdca26"
             ],
             [
              1,
              "#f0f921"
             ]
            ],
            "type": "contour"
           }
          ],
          "contourcarpet": [
           {
            "colorbar": {
             "outlinewidth": 0,
             "ticks": ""
            },
            "type": "contourcarpet"
           }
          ],
          "heatmap": [
           {
            "colorbar": {
             "outlinewidth": 0,
             "ticks": ""
            },
            "colorscale": [
             [
              0,
              "#0d0887"
             ],
             [
              0.1111111111111111,
              "#46039f"
             ],
             [
              0.2222222222222222,
              "#7201a8"
             ],
             [
              0.3333333333333333,
              "#9c179e"
             ],
             [
              0.4444444444444444,
              "#bd3786"
             ],
             [
              0.5555555555555556,
              "#d8576b"
             ],
             [
              0.6666666666666666,
              "#ed7953"
             ],
             [
              0.7777777777777778,
              "#fb9f3a"
             ],
             [
              0.8888888888888888,
              "#fdca26"
             ],
             [
              1,
              "#f0f921"
             ]
            ],
            "type": "heatmap"
           }
          ],
          "heatmapgl": [
           {
            "colorbar": {
             "outlinewidth": 0,
             "ticks": ""
            },
            "colorscale": [
             [
              0,
              "#0d0887"
             ],
             [
              0.1111111111111111,
              "#46039f"
             ],
             [
              0.2222222222222222,
              "#7201a8"
             ],
             [
              0.3333333333333333,
              "#9c179e"
             ],
             [
              0.4444444444444444,
              "#bd3786"
             ],
             [
              0.5555555555555556,
              "#d8576b"
             ],
             [
              0.6666666666666666,
              "#ed7953"
             ],
             [
              0.7777777777777778,
              "#fb9f3a"
             ],
             [
              0.8888888888888888,
              "#fdca26"
             ],
             [
              1,
              "#f0f921"
             ]
            ],
            "type": "heatmapgl"
           }
          ],
          "histogram": [
           {
            "marker": {
             "pattern": {
              "fillmode": "overlay",
              "size": 10,
              "solidity": 0.2
             }
            },
            "type": "histogram"
           }
          ],
          "histogram2d": [
           {
            "colorbar": {
             "outlinewidth": 0,
             "ticks": ""
            },
            "colorscale": [
             [
              0,
              "#0d0887"
             ],
             [
              0.1111111111111111,
              "#46039f"
             ],
             [
              0.2222222222222222,
              "#7201a8"
             ],
             [
              0.3333333333333333,
              "#9c179e"
             ],
             [
              0.4444444444444444,
              "#bd3786"
             ],
             [
              0.5555555555555556,
              "#d8576b"
             ],
             [
              0.6666666666666666,
              "#ed7953"
             ],
             [
              0.7777777777777778,
              "#fb9f3a"
             ],
             [
              0.8888888888888888,
              "#fdca26"
             ],
             [
              1,
              "#f0f921"
             ]
            ],
            "type": "histogram2d"
           }
          ],
          "histogram2dcontour": [
           {
            "colorbar": {
             "outlinewidth": 0,
             "ticks": ""
            },
            "colorscale": [
             [
              0,
              "#0d0887"
             ],
             [
              0.1111111111111111,
              "#46039f"
             ],
             [
              0.2222222222222222,
              "#7201a8"
             ],
             [
              0.3333333333333333,
              "#9c179e"
             ],
             [
              0.4444444444444444,
              "#bd3786"
             ],
             [
              0.5555555555555556,
              "#d8576b"
             ],
             [
              0.6666666666666666,
              "#ed7953"
             ],
             [
              0.7777777777777778,
              "#fb9f3a"
             ],
             [
              0.8888888888888888,
              "#fdca26"
             ],
             [
              1,
              "#f0f921"
             ]
            ],
            "type": "histogram2dcontour"
           }
          ],
          "mesh3d": [
           {
            "colorbar": {
             "outlinewidth": 0,
             "ticks": ""
            },
            "type": "mesh3d"
           }
          ],
          "parcoords": [
           {
            "line": {
             "colorbar": {
              "outlinewidth": 0,
              "ticks": ""
             }
            },
            "type": "parcoords"
           }
          ],
          "pie": [
           {
            "automargin": true,
            "type": "pie"
           }
          ],
          "scatter": [
           {
            "fillpattern": {
             "fillmode": "overlay",
             "size": 10,
             "solidity": 0.2
            },
            "type": "scatter"
           }
          ],
          "scatter3d": [
           {
            "line": {
             "colorbar": {
              "outlinewidth": 0,
              "ticks": ""
             }
            },
            "marker": {
             "colorbar": {
              "outlinewidth": 0,
              "ticks": ""
             }
            },
            "type": "scatter3d"
           }
          ],
          "scattercarpet": [
           {
            "marker": {
             "colorbar": {
              "outlinewidth": 0,
              "ticks": ""
             }
            },
            "type": "scattercarpet"
           }
          ],
          "scattergeo": [
           {
            "marker": {
             "colorbar": {
              "outlinewidth": 0,
              "ticks": ""
             }
            },
            "type": "scattergeo"
           }
          ],
          "scattergl": [
           {
            "marker": {
             "colorbar": {
              "outlinewidth": 0,
              "ticks": ""
             }
            },
            "type": "scattergl"
           }
          ],
          "scattermapbox": [
           {
            "marker": {
             "colorbar": {
              "outlinewidth": 0,
              "ticks": ""
             }
            },
            "type": "scattermapbox"
           }
          ],
          "scatterpolar": [
           {
            "marker": {
             "colorbar": {
              "outlinewidth": 0,
              "ticks": ""
             }
            },
            "type": "scatterpolar"
           }
          ],
          "scatterpolargl": [
           {
            "marker": {
             "colorbar": {
              "outlinewidth": 0,
              "ticks": ""
             }
            },
            "type": "scatterpolargl"
           }
          ],
          "scatterternary": [
           {
            "marker": {
             "colorbar": {
              "outlinewidth": 0,
              "ticks": ""
             }
            },
            "type": "scatterternary"
           }
          ],
          "surface": [
           {
            "colorbar": {
             "outlinewidth": 0,
             "ticks": ""
            },
            "colorscale": [
             [
              0,
              "#0d0887"
             ],
             [
              0.1111111111111111,
              "#46039f"
             ],
             [
              0.2222222222222222,
              "#7201a8"
             ],
             [
              0.3333333333333333,
              "#9c179e"
             ],
             [
              0.4444444444444444,
              "#bd3786"
             ],
             [
              0.5555555555555556,
              "#d8576b"
             ],
             [
              0.6666666666666666,
              "#ed7953"
             ],
             [
              0.7777777777777778,
              "#fb9f3a"
             ],
             [
              0.8888888888888888,
              "#fdca26"
             ],
             [
              1,
              "#f0f921"
             ]
            ],
            "type": "surface"
           }
          ],
          "table": [
           {
            "cells": {
             "fill": {
              "color": "#EBF0F8"
             },
             "line": {
              "color": "white"
             }
            },
            "header": {
             "fill": {
              "color": "#C8D4E3"
             },
             "line": {
              "color": "white"
             }
            },
            "type": "table"
           }
          ]
         },
         "layout": {
          "annotationdefaults": {
           "arrowcolor": "#2a3f5f",
           "arrowhead": 0,
           "arrowwidth": 1
          },
          "autotypenumbers": "strict",
          "coloraxis": {
           "colorbar": {
            "outlinewidth": 0,
            "ticks": ""
           }
          },
          "colorscale": {
           "diverging": [
            [
             0,
             "#8e0152"
            ],
            [
             0.1,
             "#c51b7d"
            ],
            [
             0.2,
             "#de77ae"
            ],
            [
             0.3,
             "#f1b6da"
            ],
            [
             0.4,
             "#fde0ef"
            ],
            [
             0.5,
             "#f7f7f7"
            ],
            [
             0.6,
             "#e6f5d0"
            ],
            [
             0.7,
             "#b8e186"
            ],
            [
             0.8,
             "#7fbc41"
            ],
            [
             0.9,
             "#4d9221"
            ],
            [
             1,
             "#276419"
            ]
           ],
           "sequential": [
            [
             0,
             "#0d0887"
            ],
            [
             0.1111111111111111,
             "#46039f"
            ],
            [
             0.2222222222222222,
             "#7201a8"
            ],
            [
             0.3333333333333333,
             "#9c179e"
            ],
            [
             0.4444444444444444,
             "#bd3786"
            ],
            [
             0.5555555555555556,
             "#d8576b"
            ],
            [
             0.6666666666666666,
             "#ed7953"
            ],
            [
             0.7777777777777778,
             "#fb9f3a"
            ],
            [
             0.8888888888888888,
             "#fdca26"
            ],
            [
             1,
             "#f0f921"
            ]
           ],
           "sequentialminus": [
            [
             0,
             "#0d0887"
            ],
            [
             0.1111111111111111,
             "#46039f"
            ],
            [
             0.2222222222222222,
             "#7201a8"
            ],
            [
             0.3333333333333333,
             "#9c179e"
            ],
            [
             0.4444444444444444,
             "#bd3786"
            ],
            [
             0.5555555555555556,
             "#d8576b"
            ],
            [
             0.6666666666666666,
             "#ed7953"
            ],
            [
             0.7777777777777778,
             "#fb9f3a"
            ],
            [
             0.8888888888888888,
             "#fdca26"
            ],
            [
             1,
             "#f0f921"
            ]
           ]
          },
          "colorway": [
           "#636efa",
           "#EF553B",
           "#00cc96",
           "#ab63fa",
           "#FFA15A",
           "#19d3f3",
           "#FF6692",
           "#B6E880",
           "#FF97FF",
           "#FECB52"
          ],
          "font": {
           "color": "#2a3f5f"
          },
          "geo": {
           "bgcolor": "white",
           "lakecolor": "white",
           "landcolor": "#E5ECF6",
           "showlakes": true,
           "showland": true,
           "subunitcolor": "white"
          },
          "hoverlabel": {
           "align": "left"
          },
          "hovermode": "closest",
          "mapbox": {
           "style": "light"
          },
          "paper_bgcolor": "white",
          "plot_bgcolor": "#E5ECF6",
          "polar": {
           "angularaxis": {
            "gridcolor": "white",
            "linecolor": "white",
            "ticks": ""
           },
           "bgcolor": "#E5ECF6",
           "radialaxis": {
            "gridcolor": "white",
            "linecolor": "white",
            "ticks": ""
           }
          },
          "scene": {
           "xaxis": {
            "backgroundcolor": "#E5ECF6",
            "gridcolor": "white",
            "gridwidth": 2,
            "linecolor": "white",
            "showbackground": true,
            "ticks": "",
            "zerolinecolor": "white"
           },
           "yaxis": {
            "backgroundcolor": "#E5ECF6",
            "gridcolor": "white",
            "gridwidth": 2,
            "linecolor": "white",
            "showbackground": true,
            "ticks": "",
            "zerolinecolor": "white"
           },
           "zaxis": {
            "backgroundcolor": "#E5ECF6",
            "gridcolor": "white",
            "gridwidth": 2,
            "linecolor": "white",
            "showbackground": true,
            "ticks": "",
            "zerolinecolor": "white"
           }
          },
          "shapedefaults": {
           "line": {
            "color": "#2a3f5f"
           }
          },
          "ternary": {
           "aaxis": {
            "gridcolor": "white",
            "linecolor": "white",
            "ticks": ""
           },
           "baxis": {
            "gridcolor": "white",
            "linecolor": "white",
            "ticks": ""
           },
           "bgcolor": "#E5ECF6",
           "caxis": {
            "gridcolor": "white",
            "linecolor": "white",
            "ticks": ""
           }
          },
          "title": {
           "x": 0.05
          },
          "xaxis": {
           "automargin": true,
           "gridcolor": "white",
           "linecolor": "white",
           "ticks": "",
           "title": {
            "standoff": 15
           },
           "zerolinecolor": "white",
           "zerolinewidth": 2
          },
          "yaxis": {
           "automargin": true,
           "gridcolor": "white",
           "linecolor": "white",
           "ticks": "",
           "title": {
            "standoff": 15
           },
           "zerolinecolor": "white",
           "zerolinewidth": 2
          }
         }
        },
        "title": {
         "text": "Max rho (unstable MT)"
        }
       }
      },
      "text/html": [
       "<div>                            <div id=\"c724ed43-abbb-4b6c-a87b-545a74ba089a\" class=\"plotly-graph-div\" style=\"height:525px; width:100%;\"></div>            <script type=\"text/javascript\">                require([\"plotly\"], function(Plotly) {                    window.PLOTLYENV=window.PLOTLYENV || {};                                    if (document.getElementById(\"c724ed43-abbb-4b6c-a87b-545a74ba089a\")) {                    Plotly.newPlot(                        \"c724ed43-abbb-4b6c-a87b-545a74ba089a\",                        [{\"hovertemplate\":\"x=%{x}<br>y=%{y}<br>z=%{z}<extra></extra>\",\"legendgroup\":\"\",\"marker\":{\"color\":\"#636efa\",\"symbol\":\"circle\"},\"mode\":\"markers\",\"name\":\"\",\"scene\":\"scene\",\"showlegend\":false,\"x\":[33.97079205757949,0.5289905284274483,11.453223187600882,46.07415929345461,72.55402995510143,38.43829790942585,19.500655510731907,60.610758507194504,12.706457569781339,0.5044687360663032,55.14116388396504,1.7893090647162977,0.7261272444631621,19.067163023459557,73.04903591498767,18.47941636588293,49.70632178865032,78.86807249549477,46.545468474726974,14.74231411003201,62.53639015222965,20.318191108338283,52.85485238143993,34.662974743473555,13.357707942090876,52.365808793963716,30.01336729155993,33.85296711285308,7.0918676887725285,36.678819663893385,8.808766735507136,43.793074348219996,59.807839619714144,44.23557379779463,0.6014500596689033,45.87476450615778,18.28293308462908,19.823313412927327,69.34791010215571,52.50100521823235,7.2552006405833245,76.8234962793008,31.28788583139209,13.168531479567731,73.15911311522105,41.19649886834874,76.63652987654103,31.272358720261373,53.46213786603246,0.74259472590333,8.142742134177267,78.28590169732438,50.93872288290057,41.950306404688234,30.43707386112029,15.341520914831815,41.09285479954504,37.907235427662066],\"y\":[0.2404983106107288,0.02397473579049554,0.15574906916938042,0.1797727564806083,0.17234327613556938,0.09644599668790384,0.1173966343398461,0.2100492454916396,0.1762487619700311,0.06243561644039228,0.13301474402246716,0.9461975589357671,0.03438627460709655,0.17051780868154548,0.16440071503531464,0.21067030474639467,0.14676507359226806,0.15940660296826836,0.2545477115370168,0.18964959783743848,0.32151044702621684,0.15088311350983202,0.1421082607348659,0.1407775173363472,0.09858886984962895,0.19713931673972132,0.27863730140500004,0.09621443100816056,0.0889646611981052,0.20443862109382124,0.09547825417347859,0.15927952814309373,0.1700552925643563,0.14048212725616022,0.03816735276346378,0.1484530451035701,0.10724099944187424,0.1133714826900098,0.18614458766587053,0.2664586628694103,0.0901636781391272,0.19992863245454578,0.10712465579072032,0.17702207138697912,0.3127605978161533,0.13118439965060968,0.14199502664757507,0.15124487569788655,0.16542363323951098,0.0391525141482102,0.17277735734357788,0.2122792238568729,0.14837435162288629,0.17596156605931254,0.10806686204262436,0.07694932919791055,0.13508535251369252,0.20248734585397268],\"z\":[2.426654577255249,4.257197856903076,2.74165415763855,2.3588056564331055,2.3026082515716553,2.421609401702881,2.514310836791992,2.308347702026367,2.680532932281494,4.504106521606445,2.3287267684936523,6.970844745635986,4.296154499053955,2.5818183422088623,2.3051095008850098,2.60355544090271,2.3398149013519287,2.291001319885254,2.325854539871216,2.6917905807495117,2.3293771743774414,2.5471742153167725,2.3430941104888916,2.3986258506774902,2.6082115173339844,2.3313748836517334,2.456965446472168,2.4517312049865723,2.828413248062134,2.4062094688415527,2.707084894180298,2.367719888687134,2.293617010116577,2.3762054443359375,4.424437046051025,2.349679946899414,2.5346720218658447,2.5759501457214355,2.2716481685638428,2.3099591732025146,2.7419097423553467,2.3009581565856934,2.436167001724243,2.72169828414917,2.3156964778900146,2.4035964012145996,2.3022122383117676,2.4371836185455322,2.3310396671295166,4.387932300567627,5.07144832611084,2.2997734546661377,2.352221965789795,2.3926916122436523,2.4503743648529053,2.6474595069885254,2.3666269779205322,2.399013042449951],\"type\":\"scatter3d\"}],                        {\"template\":{\"data\":{\"histogram2dcontour\":[{\"type\":\"histogram2dcontour\",\"colorbar\":{\"outlinewidth\":0,\"ticks\":\"\"},\"colorscale\":[[0.0,\"#0d0887\"],[0.1111111111111111,\"#46039f\"],[0.2222222222222222,\"#7201a8\"],[0.3333333333333333,\"#9c179e\"],[0.4444444444444444,\"#bd3786\"],[0.5555555555555556,\"#d8576b\"],[0.6666666666666666,\"#ed7953\"],[0.7777777777777778,\"#fb9f3a\"],[0.8888888888888888,\"#fdca26\"],[1.0,\"#f0f921\"]]}],\"choropleth\":[{\"type\":\"choropleth\",\"colorbar\":{\"outlinewidth\":0,\"ticks\":\"\"}}],\"histogram2d\":[{\"type\":\"histogram2d\",\"colorbar\":{\"outlinewidth\":0,\"ticks\":\"\"},\"colorscale\":[[0.0,\"#0d0887\"],[0.1111111111111111,\"#46039f\"],[0.2222222222222222,\"#7201a8\"],[0.3333333333333333,\"#9c179e\"],[0.4444444444444444,\"#bd3786\"],[0.5555555555555556,\"#d8576b\"],[0.6666666666666666,\"#ed7953\"],[0.7777777777777778,\"#fb9f3a\"],[0.8888888888888888,\"#fdca26\"],[1.0,\"#f0f921\"]]}],\"heatmap\":[{\"type\":\"heatmap\",\"colorbar\":{\"outlinewidth\":0,\"ticks\":\"\"},\"colorscale\":[[0.0,\"#0d0887\"],[0.1111111111111111,\"#46039f\"],[0.2222222222222222,\"#7201a8\"],[0.3333333333333333,\"#9c179e\"],[0.4444444444444444,\"#bd3786\"],[0.5555555555555556,\"#d8576b\"],[0.6666666666666666,\"#ed7953\"],[0.7777777777777778,\"#fb9f3a\"],[0.8888888888888888,\"#fdca26\"],[1.0,\"#f0f921\"]]}],\"heatmapgl\":[{\"type\":\"heatmapgl\",\"colorbar\":{\"outlinewidth\":0,\"ticks\":\"\"},\"colorscale\":[[0.0,\"#0d0887\"],[0.1111111111111111,\"#46039f\"],[0.2222222222222222,\"#7201a8\"],[0.3333333333333333,\"#9c179e\"],[0.4444444444444444,\"#bd3786\"],[0.5555555555555556,\"#d8576b\"],[0.6666666666666666,\"#ed7953\"],[0.7777777777777778,\"#fb9f3a\"],[0.8888888888888888,\"#fdca26\"],[1.0,\"#f0f921\"]]}],\"contourcarpet\":[{\"type\":\"contourcarpet\",\"colorbar\":{\"outlinewidth\":0,\"ticks\":\"\"}}],\"contour\":[{\"type\":\"contour\",\"colorbar\":{\"outlinewidth\":0,\"ticks\":\"\"},\"colorscale\":[[0.0,\"#0d0887\"],[0.1111111111111111,\"#46039f\"],[0.2222222222222222,\"#7201a8\"],[0.3333333333333333,\"#9c179e\"],[0.4444444444444444,\"#bd3786\"],[0.5555555555555556,\"#d8576b\"],[0.6666666666666666,\"#ed7953\"],[0.7777777777777778,\"#fb9f3a\"],[0.8888888888888888,\"#fdca26\"],[1.0,\"#f0f921\"]]}],\"surface\":[{\"type\":\"surface\",\"colorbar\":{\"outlinewidth\":0,\"ticks\":\"\"},\"colorscale\":[[0.0,\"#0d0887\"],[0.1111111111111111,\"#46039f\"],[0.2222222222222222,\"#7201a8\"],[0.3333333333333333,\"#9c179e\"],[0.4444444444444444,\"#bd3786\"],[0.5555555555555556,\"#d8576b\"],[0.6666666666666666,\"#ed7953\"],[0.7777777777777778,\"#fb9f3a\"],[0.8888888888888888,\"#fdca26\"],[1.0,\"#f0f921\"]]}],\"mesh3d\":[{\"type\":\"mesh3d\",\"colorbar\":{\"outlinewidth\":0,\"ticks\":\"\"}}],\"scatter\":[{\"fillpattern\":{\"fillmode\":\"overlay\",\"size\":10,\"solidity\":0.2},\"type\":\"scatter\"}],\"parcoords\":[{\"type\":\"parcoords\",\"line\":{\"colorbar\":{\"outlinewidth\":0,\"ticks\":\"\"}}}],\"scatterpolargl\":[{\"type\":\"scatterpolargl\",\"marker\":{\"colorbar\":{\"outlinewidth\":0,\"ticks\":\"\"}}}],\"bar\":[{\"error_x\":{\"color\":\"#2a3f5f\"},\"error_y\":{\"color\":\"#2a3f5f\"},\"marker\":{\"line\":{\"color\":\"#E5ECF6\",\"width\":0.5},\"pattern\":{\"fillmode\":\"overlay\",\"size\":10,\"solidity\":0.2}},\"type\":\"bar\"}],\"scattergeo\":[{\"type\":\"scattergeo\",\"marker\":{\"colorbar\":{\"outlinewidth\":0,\"ticks\":\"\"}}}],\"scatterpolar\":[{\"type\":\"scatterpolar\",\"marker\":{\"colorbar\":{\"outlinewidth\":0,\"ticks\":\"\"}}}],\"histogram\":[{\"marker\":{\"pattern\":{\"fillmode\":\"overlay\",\"size\":10,\"solidity\":0.2}},\"type\":\"histogram\"}],\"scattergl\":[{\"type\":\"scattergl\",\"marker\":{\"colorbar\":{\"outlinewidth\":0,\"ticks\":\"\"}}}],\"scatter3d\":[{\"type\":\"scatter3d\",\"line\":{\"colorbar\":{\"outlinewidth\":0,\"ticks\":\"\"}},\"marker\":{\"colorbar\":{\"outlinewidth\":0,\"ticks\":\"\"}}}],\"scattermapbox\":[{\"type\":\"scattermapbox\",\"marker\":{\"colorbar\":{\"outlinewidth\":0,\"ticks\":\"\"}}}],\"scatterternary\":[{\"type\":\"scatterternary\",\"marker\":{\"colorbar\":{\"outlinewidth\":0,\"ticks\":\"\"}}}],\"scattercarpet\":[{\"type\":\"scattercarpet\",\"marker\":{\"colorbar\":{\"outlinewidth\":0,\"ticks\":\"\"}}}],\"carpet\":[{\"aaxis\":{\"endlinecolor\":\"#2a3f5f\",\"gridcolor\":\"white\",\"linecolor\":\"white\",\"minorgridcolor\":\"white\",\"startlinecolor\":\"#2a3f5f\"},\"baxis\":{\"endlinecolor\":\"#2a3f5f\",\"gridcolor\":\"white\",\"linecolor\":\"white\",\"minorgridcolor\":\"white\",\"startlinecolor\":\"#2a3f5f\"},\"type\":\"carpet\"}],\"table\":[{\"cells\":{\"fill\":{\"color\":\"#EBF0F8\"},\"line\":{\"color\":\"white\"}},\"header\":{\"fill\":{\"color\":\"#C8D4E3\"},\"line\":{\"color\":\"white\"}},\"type\":\"table\"}],\"barpolar\":[{\"marker\":{\"line\":{\"color\":\"#E5ECF6\",\"width\":0.5},\"pattern\":{\"fillmode\":\"overlay\",\"size\":10,\"solidity\":0.2}},\"type\":\"barpolar\"}],\"pie\":[{\"automargin\":true,\"type\":\"pie\"}]},\"layout\":{\"autotypenumbers\":\"strict\",\"colorway\":[\"#636efa\",\"#EF553B\",\"#00cc96\",\"#ab63fa\",\"#FFA15A\",\"#19d3f3\",\"#FF6692\",\"#B6E880\",\"#FF97FF\",\"#FECB52\"],\"font\":{\"color\":\"#2a3f5f\"},\"hovermode\":\"closest\",\"hoverlabel\":{\"align\":\"left\"},\"paper_bgcolor\":\"white\",\"plot_bgcolor\":\"#E5ECF6\",\"polar\":{\"bgcolor\":\"#E5ECF6\",\"angularaxis\":{\"gridcolor\":\"white\",\"linecolor\":\"white\",\"ticks\":\"\"},\"radialaxis\":{\"gridcolor\":\"white\",\"linecolor\":\"white\",\"ticks\":\"\"}},\"ternary\":{\"bgcolor\":\"#E5ECF6\",\"aaxis\":{\"gridcolor\":\"white\",\"linecolor\":\"white\",\"ticks\":\"\"},\"baxis\":{\"gridcolor\":\"white\",\"linecolor\":\"white\",\"ticks\":\"\"},\"caxis\":{\"gridcolor\":\"white\",\"linecolor\":\"white\",\"ticks\":\"\"}},\"coloraxis\":{\"colorbar\":{\"outlinewidth\":0,\"ticks\":\"\"}},\"colorscale\":{\"sequential\":[[0.0,\"#0d0887\"],[0.1111111111111111,\"#46039f\"],[0.2222222222222222,\"#7201a8\"],[0.3333333333333333,\"#9c179e\"],[0.4444444444444444,\"#bd3786\"],[0.5555555555555556,\"#d8576b\"],[0.6666666666666666,\"#ed7953\"],[0.7777777777777778,\"#fb9f3a\"],[0.8888888888888888,\"#fdca26\"],[1.0,\"#f0f921\"]],\"sequentialminus\":[[0.0,\"#0d0887\"],[0.1111111111111111,\"#46039f\"],[0.2222222222222222,\"#7201a8\"],[0.3333333333333333,\"#9c179e\"],[0.4444444444444444,\"#bd3786\"],[0.5555555555555556,\"#d8576b\"],[0.6666666666666666,\"#ed7953\"],[0.7777777777777778,\"#fb9f3a\"],[0.8888888888888888,\"#fdca26\"],[1.0,\"#f0f921\"]],\"diverging\":[[0,\"#8e0152\"],[0.1,\"#c51b7d\"],[0.2,\"#de77ae\"],[0.3,\"#f1b6da\"],[0.4,\"#fde0ef\"],[0.5,\"#f7f7f7\"],[0.6,\"#e6f5d0\"],[0.7,\"#b8e186\"],[0.8,\"#7fbc41\"],[0.9,\"#4d9221\"],[1,\"#276419\"]]},\"xaxis\":{\"gridcolor\":\"white\",\"linecolor\":\"white\",\"ticks\":\"\",\"title\":{\"standoff\":15},\"zerolinecolor\":\"white\",\"automargin\":true,\"zerolinewidth\":2},\"yaxis\":{\"gridcolor\":\"white\",\"linecolor\":\"white\",\"ticks\":\"\",\"title\":{\"standoff\":15},\"zerolinecolor\":\"white\",\"automargin\":true,\"zerolinewidth\":2},\"scene\":{\"xaxis\":{\"backgroundcolor\":\"#E5ECF6\",\"gridcolor\":\"white\",\"linecolor\":\"white\",\"showbackground\":true,\"ticks\":\"\",\"zerolinecolor\":\"white\",\"gridwidth\":2},\"yaxis\":{\"backgroundcolor\":\"#E5ECF6\",\"gridcolor\":\"white\",\"linecolor\":\"white\",\"showbackground\":true,\"ticks\":\"\",\"zerolinecolor\":\"white\",\"gridwidth\":2},\"zaxis\":{\"backgroundcolor\":\"#E5ECF6\",\"gridcolor\":\"white\",\"linecolor\":\"white\",\"showbackground\":true,\"ticks\":\"\",\"zerolinecolor\":\"white\",\"gridwidth\":2}},\"shapedefaults\":{\"line\":{\"color\":\"#2a3f5f\"}},\"annotationdefaults\":{\"arrowcolor\":\"#2a3f5f\",\"arrowhead\":0,\"arrowwidth\":1},\"geo\":{\"bgcolor\":\"white\",\"landcolor\":\"#E5ECF6\",\"subunitcolor\":\"white\",\"showland\":true,\"showlakes\":true,\"lakecolor\":\"white\"},\"title\":{\"x\":0.05},\"mapbox\":{\"style\":\"light\"}}},\"scene\":{\"domain\":{\"x\":[0.0,1.0],\"y\":[0.0,1.0]},\"xaxis\":{\"title\":{\"text\":\"m1\"}},\"yaxis\":{\"title\":{\"text\":\"p\"}},\"zaxis\":{\"title\":{\"text\":\"max rho\"}}},\"legend\":{\"tracegroupgap\":0},\"title\":{\"text\":\"Max rho (unstable MT)\"}},                        {\"responsive\": true}                    ).then(function(){\n",
       "                            \n",
       "var gd = document.getElementById('c724ed43-abbb-4b6c-a87b-545a74ba089a');\n",
       "var x = new MutationObserver(function (mutations, observer) {{\n",
       "        var display = window.getComputedStyle(gd).display;\n",
       "        if (!display || display === 'none') {{\n",
       "            console.log([gd, 'removed!']);\n",
       "            Plotly.purge(gd);\n",
       "            observer.disconnect();\n",
       "        }}\n",
       "}});\n",
       "\n",
       "// Listen for the removal of the full notebook cells\n",
       "var notebookContainer = gd.closest('#notebook-container');\n",
       "if (notebookContainer) {{\n",
       "    x.observe(notebookContainer, {childList: true});\n",
       "}}\n",
       "\n",
       "// Listen for the clearing of the current output cell\n",
       "var outputEl = gd.closest('.output');\n",
       "if (outputEl) {{\n",
       "    x.observe(outputEl, {childList: true});\n",
       "}}\n",
       "\n",
       "                        })                };                });            </script>        </div>"
      ]
     },
     "metadata": {},
     "output_type": "display_data"
    }
   ],
   "source": [
    "# PREDICTIONS BASED ON VALIDATION DATA\n",
    "yo = px.scatter_3d(\n",
    "    x=m1list,\n",
    "    y=plist,\n",
    "    z=maxlist,\n",
    "    title='Max rho (unstable MT)'\n",
    ")\n",
    "yo.update_layout(scene = dict(\n",
    "                        xaxis_title = 'm1',\n",
    "                        yaxis_title = 'p', \n",
    "                        zaxis_title = 'max rho'))\n",
    "yo.show()"
   ]
  },
  {
   "cell_type": "code",
   "execution_count": 29,
   "metadata": {},
   "outputs": [
    {
     "data": {
      "text/plain": [
       "[2.438181014744281,\n",
       " 2.574587338955862,\n",
       " 2.737128826402885,\n",
       " 2.3826487697661785,\n",
       " 2.2711510118093323,\n",
       " 2.4210215535598643,\n",
       " 2.5525236616186304,\n",
       " 2.2684408667861122,\n",
       " 2.670609363426509,\n",
       " 4.519645198326976,\n",
       " 2.3423307019205,\n",
       " 6.912305467572959,\n",
       " 4.494318078186953,\n",
       " 2.5322816109355846,\n",
       " 2.2755722059578085,\n",
       " 2.576792242172289,\n",
       " 2.3705756780351033,\n",
       " 2.2697129704636443,\n",
       " 2.3499855358507467,\n",
       " 2.782413829552596,\n",
       " 2.3299561891365688,\n",
       " 2.5454857581589105,\n",
       " 2.3430411332221053,\n",
       " 2.429587907239859,\n",
       " 2.627044012135058,\n",
       " 2.313640335115974,\n",
       " 2.5206512154602354,\n",
       " 2.4480881671817176,\n",
       " 2.7589315463852113,\n",
       " 2.4331320889021444,\n",
       " 2.7721190982069412,\n",
       " 2.4000855454099965,\n",
       " 2.2973005197240877,\n",
       " 2.3970642781389286,\n",
       " 4.309437528999032,\n",
       " 2.388145735179253,\n",
       " 2.578298748865263,\n",
       " 2.5629781002166094,\n",
       " 2.2571007118795596,\n",
       " 2.3165352503516456,\n",
       " 2.830488179620069,\n",
       " 2.2416056508601665,\n",
       " 2.4673132196735987,\n",
       " 2.724234503484775,\n",
       " 2.3021148486461542,\n",
       " 2.4119500321141003,\n",
       " 2.2798519365003798,\n",
       " 2.4657505125475274,\n",
       " 2.327550411069633,\n",
       " 4.446119051443209,\n",
       " 5.65631592633516,\n",
       " 2.2444226431400813,\n",
       " 2.3688167039593617,\n",
       " 2.4071871601134123,\n",
       " 2.4728672950310444,\n",
       " 2.6350459948658247,\n",
       " 2.409656115646233,\n",
       " 2.4243123710906556]"
      ]
     },
     "execution_count": 29,
     "metadata": {},
     "output_type": "execute_result"
    }
   ],
   "source": [
    "# ACTUAL VALIDATION DATA\n",
    "true_maxlist = []\n",
    "model = BaseIFInterpolator(filename = \"/home/tem7290/b1119/prs5019/POSYDON/data/POSYDON_data/CO-HeMS/interpolators/linear3c_kNN/grid_0.0142.pkl\")\n",
    "for prof in valid:\n",
    "    inp = [prof.get('m1'), prof.get('m2'), prof.get('p')]\n",
    "    mt_type = model.test_classifier(\"interpolation_class\", np.array([inp]))\n",
    "    if mt_type == 'unstable_MT':\n",
    "        true_maxlist.append(prof.get('max_logrho'))\n",
    "        "
   ]
  },
  {
   "cell_type": "code",
   "execution_count": 34,
   "metadata": {},
   "outputs": [
    {
     "data": {
      "application/vnd.plotly.v1+json": {
       "config": {
        "plotlyServerURL": "https://plot.ly"
       },
       "data": [
        {
         "hovertemplate": "x=%{x}<br>y=%{y}<br>z=%{z}<extra></extra>",
         "legendgroup": "",
         "marker": {
          "color": "#636efa",
          "symbol": "circle"
         },
         "mode": "markers",
         "name": "",
         "scene": "scene",
         "showlegend": false,
         "type": "scatter3d",
         "x": [
          33.97079205757949,
          0.5289905284274483,
          11.453223187600882,
          46.07415929345461,
          72.55402995510143,
          38.43829790942585,
          19.500655510731907,
          60.610758507194504,
          12.706457569781339,
          0.5044687360663032,
          55.14116388396504,
          1.7893090647162977,
          0.7261272444631621,
          19.067163023459557,
          73.04903591498767,
          18.47941636588293,
          49.70632178865032,
          78.86807249549477,
          46.545468474726974,
          14.74231411003201,
          62.53639015222965,
          20.318191108338283,
          52.85485238143993,
          34.662974743473555,
          13.357707942090876,
          52.365808793963716,
          30.01336729155993,
          33.85296711285308,
          7.0918676887725285,
          36.678819663893385,
          8.808766735507136,
          43.793074348219996,
          59.807839619714144,
          44.23557379779463,
          0.6014500596689033,
          45.87476450615778,
          18.28293308462908,
          19.823313412927327,
          69.34791010215571,
          52.50100521823235,
          7.2552006405833245,
          76.8234962793008,
          31.28788583139209,
          13.168531479567731,
          73.15911311522105,
          41.19649886834874,
          76.63652987654103,
          31.272358720261373,
          53.46213786603246,
          0.74259472590333,
          8.142742134177267,
          78.28590169732438,
          50.93872288290057,
          41.950306404688234,
          30.43707386112029,
          15.341520914831815,
          41.09285479954504,
          37.907235427662066
         ],
         "y": [
          0.2404983106107288,
          0.02397473579049554,
          0.15574906916938042,
          0.1797727564806083,
          0.17234327613556938,
          0.09644599668790384,
          0.1173966343398461,
          0.2100492454916396,
          0.1762487619700311,
          0.06243561644039228,
          0.13301474402246716,
          0.9461975589357671,
          0.03438627460709655,
          0.17051780868154548,
          0.16440071503531464,
          0.21067030474639467,
          0.14676507359226806,
          0.15940660296826836,
          0.2545477115370168,
          0.18964959783743848,
          0.32151044702621684,
          0.15088311350983202,
          0.1421082607348659,
          0.1407775173363472,
          0.09858886984962895,
          0.19713931673972132,
          0.27863730140500004,
          0.09621443100816056,
          0.0889646611981052,
          0.20443862109382124,
          0.09547825417347859,
          0.15927952814309373,
          0.1700552925643563,
          0.14048212725616022,
          0.03816735276346378,
          0.1484530451035701,
          0.10724099944187424,
          0.1133714826900098,
          0.18614458766587053,
          0.2664586628694103,
          0.0901636781391272,
          0.19992863245454578,
          0.10712465579072032,
          0.17702207138697912,
          0.3127605978161533,
          0.13118439965060968,
          0.14199502664757507,
          0.15124487569788655,
          0.16542363323951098,
          0.0391525141482102,
          0.17277735734357788,
          0.2122792238568729,
          0.14837435162288629,
          0.17596156605931254,
          0.10806686204262436,
          0.07694932919791055,
          0.13508535251369252,
          0.20248734585397268
         ],
         "z": [
          2.438181014744281,
          2.574587338955862,
          2.737128826402885,
          2.3826487697661785,
          2.2711510118093323,
          2.4210215535598643,
          2.5525236616186304,
          2.2684408667861122,
          2.670609363426509,
          4.519645198326976,
          2.3423307019205,
          6.912305467572959,
          4.494318078186953,
          2.5322816109355846,
          2.2755722059578085,
          2.576792242172289,
          2.3705756780351033,
          2.2697129704636443,
          2.3499855358507467,
          2.782413829552596,
          2.3299561891365688,
          2.5454857581589105,
          2.3430411332221053,
          2.429587907239859,
          2.627044012135058,
          2.313640335115974,
          2.5206512154602354,
          2.4480881671817176,
          2.7589315463852113,
          2.4331320889021444,
          2.7721190982069412,
          2.4000855454099965,
          2.2973005197240877,
          2.3970642781389286,
          4.309437528999032,
          2.388145735179253,
          2.578298748865263,
          2.5629781002166094,
          2.2571007118795596,
          2.3165352503516456,
          2.830488179620069,
          2.2416056508601665,
          2.4673132196735987,
          2.724234503484775,
          2.3021148486461542,
          2.4119500321141003,
          2.2798519365003798,
          2.4657505125475274,
          2.327550411069633,
          4.446119051443209,
          5.65631592633516,
          2.2444226431400813,
          2.3688167039593617,
          2.4071871601134123,
          2.4728672950310444,
          2.6350459948658247,
          2.409656115646233,
          2.4243123710906556
         ]
        }
       ],
       "layout": {
        "legend": {
         "tracegroupgap": 0
        },
        "scene": {
         "domain": {
          "x": [
           0,
           1
          ],
          "y": [
           0,
           1
          ]
         },
         "xaxis": {
          "title": {
           "text": "m1"
          }
         },
         "yaxis": {
          "title": {
           "text": "p"
          }
         },
         "zaxis": {
          "title": {
           "text": "max rho"
          }
         }
        },
        "template": {
         "data": {
          "bar": [
           {
            "error_x": {
             "color": "#2a3f5f"
            },
            "error_y": {
             "color": "#2a3f5f"
            },
            "marker": {
             "line": {
              "color": "#E5ECF6",
              "width": 0.5
             },
             "pattern": {
              "fillmode": "overlay",
              "size": 10,
              "solidity": 0.2
             }
            },
            "type": "bar"
           }
          ],
          "barpolar": [
           {
            "marker": {
             "line": {
              "color": "#E5ECF6",
              "width": 0.5
             },
             "pattern": {
              "fillmode": "overlay",
              "size": 10,
              "solidity": 0.2
             }
            },
            "type": "barpolar"
           }
          ],
          "carpet": [
           {
            "aaxis": {
             "endlinecolor": "#2a3f5f",
             "gridcolor": "white",
             "linecolor": "white",
             "minorgridcolor": "white",
             "startlinecolor": "#2a3f5f"
            },
            "baxis": {
             "endlinecolor": "#2a3f5f",
             "gridcolor": "white",
             "linecolor": "white",
             "minorgridcolor": "white",
             "startlinecolor": "#2a3f5f"
            },
            "type": "carpet"
           }
          ],
          "choropleth": [
           {
            "colorbar": {
             "outlinewidth": 0,
             "ticks": ""
            },
            "type": "choropleth"
           }
          ],
          "contour": [
           {
            "colorbar": {
             "outlinewidth": 0,
             "ticks": ""
            },
            "colorscale": [
             [
              0,
              "#0d0887"
             ],
             [
              0.1111111111111111,
              "#46039f"
             ],
             [
              0.2222222222222222,
              "#7201a8"
             ],
             [
              0.3333333333333333,
              "#9c179e"
             ],
             [
              0.4444444444444444,
              "#bd3786"
             ],
             [
              0.5555555555555556,
              "#d8576b"
             ],
             [
              0.6666666666666666,
              "#ed7953"
             ],
             [
              0.7777777777777778,
              "#fb9f3a"
             ],
             [
              0.8888888888888888,
              "#fdca26"
             ],
             [
              1,
              "#f0f921"
             ]
            ],
            "type": "contour"
           }
          ],
          "contourcarpet": [
           {
            "colorbar": {
             "outlinewidth": 0,
             "ticks": ""
            },
            "type": "contourcarpet"
           }
          ],
          "heatmap": [
           {
            "colorbar": {
             "outlinewidth": 0,
             "ticks": ""
            },
            "colorscale": [
             [
              0,
              "#0d0887"
             ],
             [
              0.1111111111111111,
              "#46039f"
             ],
             [
              0.2222222222222222,
              "#7201a8"
             ],
             [
              0.3333333333333333,
              "#9c179e"
             ],
             [
              0.4444444444444444,
              "#bd3786"
             ],
             [
              0.5555555555555556,
              "#d8576b"
             ],
             [
              0.6666666666666666,
              "#ed7953"
             ],
             [
              0.7777777777777778,
              "#fb9f3a"
             ],
             [
              0.8888888888888888,
              "#fdca26"
             ],
             [
              1,
              "#f0f921"
             ]
            ],
            "type": "heatmap"
           }
          ],
          "heatmapgl": [
           {
            "colorbar": {
             "outlinewidth": 0,
             "ticks": ""
            },
            "colorscale": [
             [
              0,
              "#0d0887"
             ],
             [
              0.1111111111111111,
              "#46039f"
             ],
             [
              0.2222222222222222,
              "#7201a8"
             ],
             [
              0.3333333333333333,
              "#9c179e"
             ],
             [
              0.4444444444444444,
              "#bd3786"
             ],
             [
              0.5555555555555556,
              "#d8576b"
             ],
             [
              0.6666666666666666,
              "#ed7953"
             ],
             [
              0.7777777777777778,
              "#fb9f3a"
             ],
             [
              0.8888888888888888,
              "#fdca26"
             ],
             [
              1,
              "#f0f921"
             ]
            ],
            "type": "heatmapgl"
           }
          ],
          "histogram": [
           {
            "marker": {
             "pattern": {
              "fillmode": "overlay",
              "size": 10,
              "solidity": 0.2
             }
            },
            "type": "histogram"
           }
          ],
          "histogram2d": [
           {
            "colorbar": {
             "outlinewidth": 0,
             "ticks": ""
            },
            "colorscale": [
             [
              0,
              "#0d0887"
             ],
             [
              0.1111111111111111,
              "#46039f"
             ],
             [
              0.2222222222222222,
              "#7201a8"
             ],
             [
              0.3333333333333333,
              "#9c179e"
             ],
             [
              0.4444444444444444,
              "#bd3786"
             ],
             [
              0.5555555555555556,
              "#d8576b"
             ],
             [
              0.6666666666666666,
              "#ed7953"
             ],
             [
              0.7777777777777778,
              "#fb9f3a"
             ],
             [
              0.8888888888888888,
              "#fdca26"
             ],
             [
              1,
              "#f0f921"
             ]
            ],
            "type": "histogram2d"
           }
          ],
          "histogram2dcontour": [
           {
            "colorbar": {
             "outlinewidth": 0,
             "ticks": ""
            },
            "colorscale": [
             [
              0,
              "#0d0887"
             ],
             [
              0.1111111111111111,
              "#46039f"
             ],
             [
              0.2222222222222222,
              "#7201a8"
             ],
             [
              0.3333333333333333,
              "#9c179e"
             ],
             [
              0.4444444444444444,
              "#bd3786"
             ],
             [
              0.5555555555555556,
              "#d8576b"
             ],
             [
              0.6666666666666666,
              "#ed7953"
             ],
             [
              0.7777777777777778,
              "#fb9f3a"
             ],
             [
              0.8888888888888888,
              "#fdca26"
             ],
             [
              1,
              "#f0f921"
             ]
            ],
            "type": "histogram2dcontour"
           }
          ],
          "mesh3d": [
           {
            "colorbar": {
             "outlinewidth": 0,
             "ticks": ""
            },
            "type": "mesh3d"
           }
          ],
          "parcoords": [
           {
            "line": {
             "colorbar": {
              "outlinewidth": 0,
              "ticks": ""
             }
            },
            "type": "parcoords"
           }
          ],
          "pie": [
           {
            "automargin": true,
            "type": "pie"
           }
          ],
          "scatter": [
           {
            "fillpattern": {
             "fillmode": "overlay",
             "size": 10,
             "solidity": 0.2
            },
            "type": "scatter"
           }
          ],
          "scatter3d": [
           {
            "line": {
             "colorbar": {
              "outlinewidth": 0,
              "ticks": ""
             }
            },
            "marker": {
             "colorbar": {
              "outlinewidth": 0,
              "ticks": ""
             }
            },
            "type": "scatter3d"
           }
          ],
          "scattercarpet": [
           {
            "marker": {
             "colorbar": {
              "outlinewidth": 0,
              "ticks": ""
             }
            },
            "type": "scattercarpet"
           }
          ],
          "scattergeo": [
           {
            "marker": {
             "colorbar": {
              "outlinewidth": 0,
              "ticks": ""
             }
            },
            "type": "scattergeo"
           }
          ],
          "scattergl": [
           {
            "marker": {
             "colorbar": {
              "outlinewidth": 0,
              "ticks": ""
             }
            },
            "type": "scattergl"
           }
          ],
          "scattermapbox": [
           {
            "marker": {
             "colorbar": {
              "outlinewidth": 0,
              "ticks": ""
             }
            },
            "type": "scattermapbox"
           }
          ],
          "scatterpolar": [
           {
            "marker": {
             "colorbar": {
              "outlinewidth": 0,
              "ticks": ""
             }
            },
            "type": "scatterpolar"
           }
          ],
          "scatterpolargl": [
           {
            "marker": {
             "colorbar": {
              "outlinewidth": 0,
              "ticks": ""
             }
            },
            "type": "scatterpolargl"
           }
          ],
          "scatterternary": [
           {
            "marker": {
             "colorbar": {
              "outlinewidth": 0,
              "ticks": ""
             }
            },
            "type": "scatterternary"
           }
          ],
          "surface": [
           {
            "colorbar": {
             "outlinewidth": 0,
             "ticks": ""
            },
            "colorscale": [
             [
              0,
              "#0d0887"
             ],
             [
              0.1111111111111111,
              "#46039f"
             ],
             [
              0.2222222222222222,
              "#7201a8"
             ],
             [
              0.3333333333333333,
              "#9c179e"
             ],
             [
              0.4444444444444444,
              "#bd3786"
             ],
             [
              0.5555555555555556,
              "#d8576b"
             ],
             [
              0.6666666666666666,
              "#ed7953"
             ],
             [
              0.7777777777777778,
              "#fb9f3a"
             ],
             [
              0.8888888888888888,
              "#fdca26"
             ],
             [
              1,
              "#f0f921"
             ]
            ],
            "type": "surface"
           }
          ],
          "table": [
           {
            "cells": {
             "fill": {
              "color": "#EBF0F8"
             },
             "line": {
              "color": "white"
             }
            },
            "header": {
             "fill": {
              "color": "#C8D4E3"
             },
             "line": {
              "color": "white"
             }
            },
            "type": "table"
           }
          ]
         },
         "layout": {
          "annotationdefaults": {
           "arrowcolor": "#2a3f5f",
           "arrowhead": 0,
           "arrowwidth": 1
          },
          "autotypenumbers": "strict",
          "coloraxis": {
           "colorbar": {
            "outlinewidth": 0,
            "ticks": ""
           }
          },
          "colorscale": {
           "diverging": [
            [
             0,
             "#8e0152"
            ],
            [
             0.1,
             "#c51b7d"
            ],
            [
             0.2,
             "#de77ae"
            ],
            [
             0.3,
             "#f1b6da"
            ],
            [
             0.4,
             "#fde0ef"
            ],
            [
             0.5,
             "#f7f7f7"
            ],
            [
             0.6,
             "#e6f5d0"
            ],
            [
             0.7,
             "#b8e186"
            ],
            [
             0.8,
             "#7fbc41"
            ],
            [
             0.9,
             "#4d9221"
            ],
            [
             1,
             "#276419"
            ]
           ],
           "sequential": [
            [
             0,
             "#0d0887"
            ],
            [
             0.1111111111111111,
             "#46039f"
            ],
            [
             0.2222222222222222,
             "#7201a8"
            ],
            [
             0.3333333333333333,
             "#9c179e"
            ],
            [
             0.4444444444444444,
             "#bd3786"
            ],
            [
             0.5555555555555556,
             "#d8576b"
            ],
            [
             0.6666666666666666,
             "#ed7953"
            ],
            [
             0.7777777777777778,
             "#fb9f3a"
            ],
            [
             0.8888888888888888,
             "#fdca26"
            ],
            [
             1,
             "#f0f921"
            ]
           ],
           "sequentialminus": [
            [
             0,
             "#0d0887"
            ],
            [
             0.1111111111111111,
             "#46039f"
            ],
            [
             0.2222222222222222,
             "#7201a8"
            ],
            [
             0.3333333333333333,
             "#9c179e"
            ],
            [
             0.4444444444444444,
             "#bd3786"
            ],
            [
             0.5555555555555556,
             "#d8576b"
            ],
            [
             0.6666666666666666,
             "#ed7953"
            ],
            [
             0.7777777777777778,
             "#fb9f3a"
            ],
            [
             0.8888888888888888,
             "#fdca26"
            ],
            [
             1,
             "#f0f921"
            ]
           ]
          },
          "colorway": [
           "#636efa",
           "#EF553B",
           "#00cc96",
           "#ab63fa",
           "#FFA15A",
           "#19d3f3",
           "#FF6692",
           "#B6E880",
           "#FF97FF",
           "#FECB52"
          ],
          "font": {
           "color": "#2a3f5f"
          },
          "geo": {
           "bgcolor": "white",
           "lakecolor": "white",
           "landcolor": "#E5ECF6",
           "showlakes": true,
           "showland": true,
           "subunitcolor": "white"
          },
          "hoverlabel": {
           "align": "left"
          },
          "hovermode": "closest",
          "mapbox": {
           "style": "light"
          },
          "paper_bgcolor": "white",
          "plot_bgcolor": "#E5ECF6",
          "polar": {
           "angularaxis": {
            "gridcolor": "white",
            "linecolor": "white",
            "ticks": ""
           },
           "bgcolor": "#E5ECF6",
           "radialaxis": {
            "gridcolor": "white",
            "linecolor": "white",
            "ticks": ""
           }
          },
          "scene": {
           "xaxis": {
            "backgroundcolor": "#E5ECF6",
            "gridcolor": "white",
            "gridwidth": 2,
            "linecolor": "white",
            "showbackground": true,
            "ticks": "",
            "zerolinecolor": "white"
           },
           "yaxis": {
            "backgroundcolor": "#E5ECF6",
            "gridcolor": "white",
            "gridwidth": 2,
            "linecolor": "white",
            "showbackground": true,
            "ticks": "",
            "zerolinecolor": "white"
           },
           "zaxis": {
            "backgroundcolor": "#E5ECF6",
            "gridcolor": "white",
            "gridwidth": 2,
            "linecolor": "white",
            "showbackground": true,
            "ticks": "",
            "zerolinecolor": "white"
           }
          },
          "shapedefaults": {
           "line": {
            "color": "#2a3f5f"
           }
          },
          "ternary": {
           "aaxis": {
            "gridcolor": "white",
            "linecolor": "white",
            "ticks": ""
           },
           "baxis": {
            "gridcolor": "white",
            "linecolor": "white",
            "ticks": ""
           },
           "bgcolor": "#E5ECF6",
           "caxis": {
            "gridcolor": "white",
            "linecolor": "white",
            "ticks": ""
           }
          },
          "title": {
           "x": 0.05
          },
          "xaxis": {
           "automargin": true,
           "gridcolor": "white",
           "linecolor": "white",
           "ticks": "",
           "title": {
            "standoff": 15
           },
           "zerolinecolor": "white",
           "zerolinewidth": 2
          },
          "yaxis": {
           "automargin": true,
           "gridcolor": "white",
           "linecolor": "white",
           "ticks": "",
           "title": {
            "standoff": 15
           },
           "zerolinecolor": "white",
           "zerolinewidth": 2
          }
         }
        },
        "title": {
         "text": "True max rho (unstable MT)"
        }
       }
      },
      "text/html": [
       "<div>                            <div id=\"b0412c29-15ad-4b1f-bf57-8b6f28329cfa\" class=\"plotly-graph-div\" style=\"height:525px; width:100%;\"></div>            <script type=\"text/javascript\">                require([\"plotly\"], function(Plotly) {                    window.PLOTLYENV=window.PLOTLYENV || {};                                    if (document.getElementById(\"b0412c29-15ad-4b1f-bf57-8b6f28329cfa\")) {                    Plotly.newPlot(                        \"b0412c29-15ad-4b1f-bf57-8b6f28329cfa\",                        [{\"hovertemplate\":\"x=%{x}<br>y=%{y}<br>z=%{z}<extra></extra>\",\"legendgroup\":\"\",\"marker\":{\"color\":\"#636efa\",\"symbol\":\"circle\"},\"mode\":\"markers\",\"name\":\"\",\"scene\":\"scene\",\"showlegend\":false,\"x\":[33.97079205757949,0.5289905284274483,11.453223187600882,46.07415929345461,72.55402995510143,38.43829790942585,19.500655510731907,60.610758507194504,12.706457569781339,0.5044687360663032,55.14116388396504,1.7893090647162977,0.7261272444631621,19.067163023459557,73.04903591498767,18.47941636588293,49.70632178865032,78.86807249549477,46.545468474726974,14.74231411003201,62.53639015222965,20.318191108338283,52.85485238143993,34.662974743473555,13.357707942090876,52.365808793963716,30.01336729155993,33.85296711285308,7.0918676887725285,36.678819663893385,8.808766735507136,43.793074348219996,59.807839619714144,44.23557379779463,0.6014500596689033,45.87476450615778,18.28293308462908,19.823313412927327,69.34791010215571,52.50100521823235,7.2552006405833245,76.8234962793008,31.28788583139209,13.168531479567731,73.15911311522105,41.19649886834874,76.63652987654103,31.272358720261373,53.46213786603246,0.74259472590333,8.142742134177267,78.28590169732438,50.93872288290057,41.950306404688234,30.43707386112029,15.341520914831815,41.09285479954504,37.907235427662066],\"y\":[0.2404983106107288,0.02397473579049554,0.15574906916938042,0.1797727564806083,0.17234327613556938,0.09644599668790384,0.1173966343398461,0.2100492454916396,0.1762487619700311,0.06243561644039228,0.13301474402246716,0.9461975589357671,0.03438627460709655,0.17051780868154548,0.16440071503531464,0.21067030474639467,0.14676507359226806,0.15940660296826836,0.2545477115370168,0.18964959783743848,0.32151044702621684,0.15088311350983202,0.1421082607348659,0.1407775173363472,0.09858886984962895,0.19713931673972132,0.27863730140500004,0.09621443100816056,0.0889646611981052,0.20443862109382124,0.09547825417347859,0.15927952814309373,0.1700552925643563,0.14048212725616022,0.03816735276346378,0.1484530451035701,0.10724099944187424,0.1133714826900098,0.18614458766587053,0.2664586628694103,0.0901636781391272,0.19992863245454578,0.10712465579072032,0.17702207138697912,0.3127605978161533,0.13118439965060968,0.14199502664757507,0.15124487569788655,0.16542363323951098,0.0391525141482102,0.17277735734357788,0.2122792238568729,0.14837435162288629,0.17596156605931254,0.10806686204262436,0.07694932919791055,0.13508535251369252,0.20248734585397268],\"z\":[2.438181014744281,2.574587338955862,2.737128826402885,2.3826487697661785,2.2711510118093323,2.4210215535598643,2.5525236616186304,2.2684408667861122,2.670609363426509,4.519645198326976,2.3423307019205,6.912305467572959,4.494318078186953,2.5322816109355846,2.2755722059578085,2.576792242172289,2.3705756780351033,2.2697129704636443,2.3499855358507467,2.782413829552596,2.3299561891365688,2.5454857581589105,2.3430411332221053,2.429587907239859,2.627044012135058,2.313640335115974,2.5206512154602354,2.4480881671817176,2.7589315463852113,2.4331320889021444,2.7721190982069412,2.4000855454099965,2.2973005197240877,2.3970642781389286,4.309437528999032,2.388145735179253,2.578298748865263,2.5629781002166094,2.2571007118795596,2.3165352503516456,2.830488179620069,2.2416056508601665,2.4673132196735987,2.724234503484775,2.3021148486461542,2.4119500321141003,2.2798519365003798,2.4657505125475274,2.327550411069633,4.446119051443209,5.65631592633516,2.2444226431400813,2.3688167039593617,2.4071871601134123,2.4728672950310444,2.6350459948658247,2.409656115646233,2.4243123710906556],\"type\":\"scatter3d\"}],                        {\"template\":{\"data\":{\"histogram2dcontour\":[{\"type\":\"histogram2dcontour\",\"colorbar\":{\"outlinewidth\":0,\"ticks\":\"\"},\"colorscale\":[[0.0,\"#0d0887\"],[0.1111111111111111,\"#46039f\"],[0.2222222222222222,\"#7201a8\"],[0.3333333333333333,\"#9c179e\"],[0.4444444444444444,\"#bd3786\"],[0.5555555555555556,\"#d8576b\"],[0.6666666666666666,\"#ed7953\"],[0.7777777777777778,\"#fb9f3a\"],[0.8888888888888888,\"#fdca26\"],[1.0,\"#f0f921\"]]}],\"choropleth\":[{\"type\":\"choropleth\",\"colorbar\":{\"outlinewidth\":0,\"ticks\":\"\"}}],\"histogram2d\":[{\"type\":\"histogram2d\",\"colorbar\":{\"outlinewidth\":0,\"ticks\":\"\"},\"colorscale\":[[0.0,\"#0d0887\"],[0.1111111111111111,\"#46039f\"],[0.2222222222222222,\"#7201a8\"],[0.3333333333333333,\"#9c179e\"],[0.4444444444444444,\"#bd3786\"],[0.5555555555555556,\"#d8576b\"],[0.6666666666666666,\"#ed7953\"],[0.7777777777777778,\"#fb9f3a\"],[0.8888888888888888,\"#fdca26\"],[1.0,\"#f0f921\"]]}],\"heatmap\":[{\"type\":\"heatmap\",\"colorbar\":{\"outlinewidth\":0,\"ticks\":\"\"},\"colorscale\":[[0.0,\"#0d0887\"],[0.1111111111111111,\"#46039f\"],[0.2222222222222222,\"#7201a8\"],[0.3333333333333333,\"#9c179e\"],[0.4444444444444444,\"#bd3786\"],[0.5555555555555556,\"#d8576b\"],[0.6666666666666666,\"#ed7953\"],[0.7777777777777778,\"#fb9f3a\"],[0.8888888888888888,\"#fdca26\"],[1.0,\"#f0f921\"]]}],\"heatmapgl\":[{\"type\":\"heatmapgl\",\"colorbar\":{\"outlinewidth\":0,\"ticks\":\"\"},\"colorscale\":[[0.0,\"#0d0887\"],[0.1111111111111111,\"#46039f\"],[0.2222222222222222,\"#7201a8\"],[0.3333333333333333,\"#9c179e\"],[0.4444444444444444,\"#bd3786\"],[0.5555555555555556,\"#d8576b\"],[0.6666666666666666,\"#ed7953\"],[0.7777777777777778,\"#fb9f3a\"],[0.8888888888888888,\"#fdca26\"],[1.0,\"#f0f921\"]]}],\"contourcarpet\":[{\"type\":\"contourcarpet\",\"colorbar\":{\"outlinewidth\":0,\"ticks\":\"\"}}],\"contour\":[{\"type\":\"contour\",\"colorbar\":{\"outlinewidth\":0,\"ticks\":\"\"},\"colorscale\":[[0.0,\"#0d0887\"],[0.1111111111111111,\"#46039f\"],[0.2222222222222222,\"#7201a8\"],[0.3333333333333333,\"#9c179e\"],[0.4444444444444444,\"#bd3786\"],[0.5555555555555556,\"#d8576b\"],[0.6666666666666666,\"#ed7953\"],[0.7777777777777778,\"#fb9f3a\"],[0.8888888888888888,\"#fdca26\"],[1.0,\"#f0f921\"]]}],\"surface\":[{\"type\":\"surface\",\"colorbar\":{\"outlinewidth\":0,\"ticks\":\"\"},\"colorscale\":[[0.0,\"#0d0887\"],[0.1111111111111111,\"#46039f\"],[0.2222222222222222,\"#7201a8\"],[0.3333333333333333,\"#9c179e\"],[0.4444444444444444,\"#bd3786\"],[0.5555555555555556,\"#d8576b\"],[0.6666666666666666,\"#ed7953\"],[0.7777777777777778,\"#fb9f3a\"],[0.8888888888888888,\"#fdca26\"],[1.0,\"#f0f921\"]]}],\"mesh3d\":[{\"type\":\"mesh3d\",\"colorbar\":{\"outlinewidth\":0,\"ticks\":\"\"}}],\"scatter\":[{\"fillpattern\":{\"fillmode\":\"overlay\",\"size\":10,\"solidity\":0.2},\"type\":\"scatter\"}],\"parcoords\":[{\"type\":\"parcoords\",\"line\":{\"colorbar\":{\"outlinewidth\":0,\"ticks\":\"\"}}}],\"scatterpolargl\":[{\"type\":\"scatterpolargl\",\"marker\":{\"colorbar\":{\"outlinewidth\":0,\"ticks\":\"\"}}}],\"bar\":[{\"error_x\":{\"color\":\"#2a3f5f\"},\"error_y\":{\"color\":\"#2a3f5f\"},\"marker\":{\"line\":{\"color\":\"#E5ECF6\",\"width\":0.5},\"pattern\":{\"fillmode\":\"overlay\",\"size\":10,\"solidity\":0.2}},\"type\":\"bar\"}],\"scattergeo\":[{\"type\":\"scattergeo\",\"marker\":{\"colorbar\":{\"outlinewidth\":0,\"ticks\":\"\"}}}],\"scatterpolar\":[{\"type\":\"scatterpolar\",\"marker\":{\"colorbar\":{\"outlinewidth\":0,\"ticks\":\"\"}}}],\"histogram\":[{\"marker\":{\"pattern\":{\"fillmode\":\"overlay\",\"size\":10,\"solidity\":0.2}},\"type\":\"histogram\"}],\"scattergl\":[{\"type\":\"scattergl\",\"marker\":{\"colorbar\":{\"outlinewidth\":0,\"ticks\":\"\"}}}],\"scatter3d\":[{\"type\":\"scatter3d\",\"line\":{\"colorbar\":{\"outlinewidth\":0,\"ticks\":\"\"}},\"marker\":{\"colorbar\":{\"outlinewidth\":0,\"ticks\":\"\"}}}],\"scattermapbox\":[{\"type\":\"scattermapbox\",\"marker\":{\"colorbar\":{\"outlinewidth\":0,\"ticks\":\"\"}}}],\"scatterternary\":[{\"type\":\"scatterternary\",\"marker\":{\"colorbar\":{\"outlinewidth\":0,\"ticks\":\"\"}}}],\"scattercarpet\":[{\"type\":\"scattercarpet\",\"marker\":{\"colorbar\":{\"outlinewidth\":0,\"ticks\":\"\"}}}],\"carpet\":[{\"aaxis\":{\"endlinecolor\":\"#2a3f5f\",\"gridcolor\":\"white\",\"linecolor\":\"white\",\"minorgridcolor\":\"white\",\"startlinecolor\":\"#2a3f5f\"},\"baxis\":{\"endlinecolor\":\"#2a3f5f\",\"gridcolor\":\"white\",\"linecolor\":\"white\",\"minorgridcolor\":\"white\",\"startlinecolor\":\"#2a3f5f\"},\"type\":\"carpet\"}],\"table\":[{\"cells\":{\"fill\":{\"color\":\"#EBF0F8\"},\"line\":{\"color\":\"white\"}},\"header\":{\"fill\":{\"color\":\"#C8D4E3\"},\"line\":{\"color\":\"white\"}},\"type\":\"table\"}],\"barpolar\":[{\"marker\":{\"line\":{\"color\":\"#E5ECF6\",\"width\":0.5},\"pattern\":{\"fillmode\":\"overlay\",\"size\":10,\"solidity\":0.2}},\"type\":\"barpolar\"}],\"pie\":[{\"automargin\":true,\"type\":\"pie\"}]},\"layout\":{\"autotypenumbers\":\"strict\",\"colorway\":[\"#636efa\",\"#EF553B\",\"#00cc96\",\"#ab63fa\",\"#FFA15A\",\"#19d3f3\",\"#FF6692\",\"#B6E880\",\"#FF97FF\",\"#FECB52\"],\"font\":{\"color\":\"#2a3f5f\"},\"hovermode\":\"closest\",\"hoverlabel\":{\"align\":\"left\"},\"paper_bgcolor\":\"white\",\"plot_bgcolor\":\"#E5ECF6\",\"polar\":{\"bgcolor\":\"#E5ECF6\",\"angularaxis\":{\"gridcolor\":\"white\",\"linecolor\":\"white\",\"ticks\":\"\"},\"radialaxis\":{\"gridcolor\":\"white\",\"linecolor\":\"white\",\"ticks\":\"\"}},\"ternary\":{\"bgcolor\":\"#E5ECF6\",\"aaxis\":{\"gridcolor\":\"white\",\"linecolor\":\"white\",\"ticks\":\"\"},\"baxis\":{\"gridcolor\":\"white\",\"linecolor\":\"white\",\"ticks\":\"\"},\"caxis\":{\"gridcolor\":\"white\",\"linecolor\":\"white\",\"ticks\":\"\"}},\"coloraxis\":{\"colorbar\":{\"outlinewidth\":0,\"ticks\":\"\"}},\"colorscale\":{\"sequential\":[[0.0,\"#0d0887\"],[0.1111111111111111,\"#46039f\"],[0.2222222222222222,\"#7201a8\"],[0.3333333333333333,\"#9c179e\"],[0.4444444444444444,\"#bd3786\"],[0.5555555555555556,\"#d8576b\"],[0.6666666666666666,\"#ed7953\"],[0.7777777777777778,\"#fb9f3a\"],[0.8888888888888888,\"#fdca26\"],[1.0,\"#f0f921\"]],\"sequentialminus\":[[0.0,\"#0d0887\"],[0.1111111111111111,\"#46039f\"],[0.2222222222222222,\"#7201a8\"],[0.3333333333333333,\"#9c179e\"],[0.4444444444444444,\"#bd3786\"],[0.5555555555555556,\"#d8576b\"],[0.6666666666666666,\"#ed7953\"],[0.7777777777777778,\"#fb9f3a\"],[0.8888888888888888,\"#fdca26\"],[1.0,\"#f0f921\"]],\"diverging\":[[0,\"#8e0152\"],[0.1,\"#c51b7d\"],[0.2,\"#de77ae\"],[0.3,\"#f1b6da\"],[0.4,\"#fde0ef\"],[0.5,\"#f7f7f7\"],[0.6,\"#e6f5d0\"],[0.7,\"#b8e186\"],[0.8,\"#7fbc41\"],[0.9,\"#4d9221\"],[1,\"#276419\"]]},\"xaxis\":{\"gridcolor\":\"white\",\"linecolor\":\"white\",\"ticks\":\"\",\"title\":{\"standoff\":15},\"zerolinecolor\":\"white\",\"automargin\":true,\"zerolinewidth\":2},\"yaxis\":{\"gridcolor\":\"white\",\"linecolor\":\"white\",\"ticks\":\"\",\"title\":{\"standoff\":15},\"zerolinecolor\":\"white\",\"automargin\":true,\"zerolinewidth\":2},\"scene\":{\"xaxis\":{\"backgroundcolor\":\"#E5ECF6\",\"gridcolor\":\"white\",\"linecolor\":\"white\",\"showbackground\":true,\"ticks\":\"\",\"zerolinecolor\":\"white\",\"gridwidth\":2},\"yaxis\":{\"backgroundcolor\":\"#E5ECF6\",\"gridcolor\":\"white\",\"linecolor\":\"white\",\"showbackground\":true,\"ticks\":\"\",\"zerolinecolor\":\"white\",\"gridwidth\":2},\"zaxis\":{\"backgroundcolor\":\"#E5ECF6\",\"gridcolor\":\"white\",\"linecolor\":\"white\",\"showbackground\":true,\"ticks\":\"\",\"zerolinecolor\":\"white\",\"gridwidth\":2}},\"shapedefaults\":{\"line\":{\"color\":\"#2a3f5f\"}},\"annotationdefaults\":{\"arrowcolor\":\"#2a3f5f\",\"arrowhead\":0,\"arrowwidth\":1},\"geo\":{\"bgcolor\":\"white\",\"landcolor\":\"#E5ECF6\",\"subunitcolor\":\"white\",\"showland\":true,\"showlakes\":true,\"lakecolor\":\"white\"},\"title\":{\"x\":0.05},\"mapbox\":{\"style\":\"light\"}}},\"scene\":{\"domain\":{\"x\":[0.0,1.0],\"y\":[0.0,1.0]},\"xaxis\":{\"title\":{\"text\":\"m1\"}},\"yaxis\":{\"title\":{\"text\":\"p\"}},\"zaxis\":{\"title\":{\"text\":\"max rho\"}}},\"legend\":{\"tracegroupgap\":0},\"title\":{\"text\":\"True max rho (unstable MT)\"}},                        {\"responsive\": true}                    ).then(function(){\n",
       "                            \n",
       "var gd = document.getElementById('b0412c29-15ad-4b1f-bf57-8b6f28329cfa');\n",
       "var x = new MutationObserver(function (mutations, observer) {{\n",
       "        var display = window.getComputedStyle(gd).display;\n",
       "        if (!display || display === 'none') {{\n",
       "            console.log([gd, 'removed!']);\n",
       "            Plotly.purge(gd);\n",
       "            observer.disconnect();\n",
       "        }}\n",
       "}});\n",
       "\n",
       "// Listen for the removal of the full notebook cells\n",
       "var notebookContainer = gd.closest('#notebook-container');\n",
       "if (notebookContainer) {{\n",
       "    x.observe(notebookContainer, {childList: true});\n",
       "}}\n",
       "\n",
       "// Listen for the clearing of the current output cell\n",
       "var outputEl = gd.closest('.output');\n",
       "if (outputEl) {{\n",
       "    x.observe(outputEl, {childList: true});\n",
       "}}\n",
       "\n",
       "                        })                };                });            </script>        </div>"
      ]
     },
     "metadata": {},
     "output_type": "display_data"
    }
   ],
   "source": [
    "# Actual validation max logrho\n",
    "\n",
    "plot = px.scatter_3d(\n",
    "    x=m1list,\n",
    "    y=plist,\n",
    "    z=true_maxlist,\n",
    "    title='True max rho (unstable MT)'\n",
    ")\n",
    "plot.update_layout(scene = dict(\n",
    "                        xaxis_title = 'm1',\n",
    "                        yaxis_title = 'p', \n",
    "                        zaxis_title = 'max rho'))\n",
    "plot.show()"
   ]
  },
  {
   "cell_type": "code",
   "execution_count": 33,
   "metadata": {},
   "outputs": [
    {
     "data": {
      "text/plain": [
       "0.07031875384588249"
      ]
     },
     "execution_count": 33,
     "metadata": {},
     "output_type": "execute_result"
    }
   ],
   "source": [
    "mae(true_maxlist, maxlist)"
   ]
  },
  {
   "cell_type": "code",
   "execution_count": null,
   "metadata": {},
   "outputs": [],
   "source": []
  }
 ],
 "metadata": {
  "kernelspec": {
   "display_name": "posydon",
   "language": "python",
   "name": "posydon"
  },
  "language_info": {
   "codemirror_mode": {
    "name": "ipython",
    "version": 3
   },
   "file_extension": ".py",
   "mimetype": "text/x-python",
   "name": "python",
   "nbconvert_exporter": "python",
   "pygments_lexer": "ipython3",
   "version": "3.7.13"
  }
 },
 "nbformat": 4,
 "nbformat_minor": 2
}
